{
 "cells": [
  {
   "cell_type": "markdown",
   "id": "736a64a3-f91f-462b-b37b-72d1334a2451",
   "metadata": {},
   "source": [
    "## <B> Project : Lung Cancer Prediction </B>\n",
    "Objective : Is to analyze the data given to predict the possiblility of a patient to diagnose with lung cancer.<br>\n",
    "Task 1 : Exploratory Data Analysis\n"
   ]
  },
  {
   "cell_type": "markdown",
   "id": "ba341126-f312-4b4c-ae5d-a441cc1ed971",
   "metadata": {},
   "source": [
    "--> Below are my initial import items for this project"
   ]
  },
  {
   "cell_type": "code",
   "execution_count": 2,
   "id": "92d4e7ac-1df2-41ea-9494-0e12de96e904",
   "metadata": {},
   "outputs": [],
   "source": [
    "import numpy as np # linear algebra\n",
    "import pandas as pd # data processing, CSV file I/O (e.g. pd.read_csv)\n",
    "import matplotlib.pyplot as plt\n",
    "import seaborn as sb\n",
    "import os\n",
    "import warnings\n",
    "warnings.filterwarnings(\"ignore\")\n",
    "import sqlite3\n",
    "from sklearn.preprocessing import MinMaxScaler, LabelEncoder\n",
    "from sklearn.model_selection import train_test_split\n",
    "from sklearn.metrics import*\n",
    "from sklearn.ensemble import RandomForestClassifier, GradientBoostingClassifier\n",
    "from sklearn.svm import SVC\n",
    "from sklearn.neighbors import KNeighborsClassifier\n",
    "from sklearn.linear_model import LogisticRegression\n",
    "from sklearn.metrics import accuracy_score, classification_report"
   ]
  },
  {
   "cell_type": "markdown",
   "id": "73ace2aa-73f6-42e7-8008-49296ddb3d86",
   "metadata": {},
   "source": [
    "--> Connecting to my database - lung_cancer.db given."
   ]
  },
  {
   "cell_type": "code",
   "execution_count": 3,
   "id": "6ad987c8-0600-436e-8f88-1e00f021628f",
   "metadata": {},
   "outputs": [],
   "source": [
    "con = sqlite3.connect(\"C:/Users/Tittu/Downloads/lung_cancer.db\")\n",
    "df = pd.read_sql_query(\"SELECT * from lung_cancer\", con)"
   ]
  },
  {
   "cell_type": "markdown",
   "id": "39f2d253-1f80-422c-a81c-45246574e7b3",
   "metadata": {},
   "source": [
    "--> As part of data analysing, cleansing and filtering, I am removing all negative age groups. <br>\n",
    "--> Assumptions: <br>\n",
    "--> 1. Around 229 negative age groups are in the table which I presume some incorrect info to remove so as to do our prediction closer to 100% accuracy. <br>\n",
    "--> 2. Not removing them will unnecessarily give a confusion in terms of averaging and aggregation. <br>\n",
    "--> 3. Below 10119 data/row out of 10398 is reduction of negative age rows of 229."
   ]
  },
  {
   "cell_type": "code",
   "execution_count": 4,
   "id": "bfd2dc70-cf5d-478c-b06f-0f0a963f4737",
   "metadata": {},
   "outputs": [
    {
     "data": {
      "text/html": [
       "<div>\n",
       "<style scoped>\n",
       "    .dataframe tbody tr th:only-of-type {\n",
       "        vertical-align: middle;\n",
       "    }\n",
       "\n",
       "    .dataframe tbody tr th {\n",
       "        vertical-align: top;\n",
       "    }\n",
       "\n",
       "    .dataframe thead th {\n",
       "        text-align: right;\n",
       "    }\n",
       "</style>\n",
       "<table border=\"1\" class=\"dataframe\">\n",
       "  <thead>\n",
       "    <tr style=\"text-align: right;\">\n",
       "      <th></th>\n",
       "      <th>ID</th>\n",
       "      <th>Age</th>\n",
       "      <th>Gender</th>\n",
       "      <th>COPD History</th>\n",
       "      <th>Genetic Markers</th>\n",
       "      <th>Air Pollution Exposure</th>\n",
       "      <th>Last Weight</th>\n",
       "      <th>Current Weight</th>\n",
       "      <th>Start Smoking</th>\n",
       "      <th>Stop Smoking</th>\n",
       "      <th>Taken Bronchodilators</th>\n",
       "      <th>Frequency of Tiredness</th>\n",
       "      <th>Dominant Hand</th>\n",
       "      <th>Lung Cancer Occurrence</th>\n",
       "    </tr>\n",
       "  </thead>\n",
       "  <tbody>\n",
       "    <tr>\n",
       "      <th>0</th>\n",
       "      <td>1.468154e+16</td>\n",
       "      <td>42</td>\n",
       "      <td>Male</td>\n",
       "      <td>No</td>\n",
       "      <td>Not Present</td>\n",
       "      <td>Medium</td>\n",
       "      <td>73</td>\n",
       "      <td>69</td>\n",
       "      <td>2015</td>\n",
       "      <td>2020</td>\n",
       "      <td>No</td>\n",
       "      <td>None / Low</td>\n",
       "      <td>Right</td>\n",
       "      <td>1</td>\n",
       "    </tr>\n",
       "    <tr>\n",
       "      <th>1</th>\n",
       "      <td>1.271684e+18</td>\n",
       "      <td>72</td>\n",
       "      <td>Male</td>\n",
       "      <td>Yes</td>\n",
       "      <td>Not Present</td>\n",
       "      <td>High</td>\n",
       "      <td>50</td>\n",
       "      <td>42</td>\n",
       "      <td>2006</td>\n",
       "      <td>2012</td>\n",
       "      <td>Yes</td>\n",
       "      <td>Medium</td>\n",
       "      <td>Right</td>\n",
       "      <td>1</td>\n",
       "    </tr>\n",
       "    <tr>\n",
       "      <th>2</th>\n",
       "      <td>1.708068e+18</td>\n",
       "      <td>65</td>\n",
       "      <td>Male</td>\n",
       "      <td>Yes</td>\n",
       "      <td>Not Present</td>\n",
       "      <td>Low</td>\n",
       "      <td>65</td>\n",
       "      <td>75</td>\n",
       "      <td>1998</td>\n",
       "      <td>Still Smoking</td>\n",
       "      <td>Yes</td>\n",
       "      <td>None / Low</td>\n",
       "      <td>Right</td>\n",
       "      <td>0</td>\n",
       "    </tr>\n",
       "    <tr>\n",
       "      <th>3</th>\n",
       "      <td>3.555829e+17</td>\n",
       "      <td>67</td>\n",
       "      <td>Male</td>\n",
       "      <td>No</td>\n",
       "      <td>Not Present</td>\n",
       "      <td>High</td>\n",
       "      <td>69</td>\n",
       "      <td>58</td>\n",
       "      <td>2011</td>\n",
       "      <td>2014</td>\n",
       "      <td>No</td>\n",
       "      <td>None / Low</td>\n",
       "      <td>Right</td>\n",
       "      <td>1</td>\n",
       "    </tr>\n",
       "    <tr>\n",
       "      <th>4</th>\n",
       "      <td>1.684598e+18</td>\n",
       "      <td>54</td>\n",
       "      <td>Male</td>\n",
       "      <td>Yes</td>\n",
       "      <td>Not Present</td>\n",
       "      <td>Medium</td>\n",
       "      <td>46</td>\n",
       "      <td>40</td>\n",
       "      <td>1994</td>\n",
       "      <td>2017</td>\n",
       "      <td>Yes</td>\n",
       "      <td>None / Low</td>\n",
       "      <td>Right</td>\n",
       "      <td>0</td>\n",
       "    </tr>\n",
       "  </tbody>\n",
       "</table>\n",
       "</div>"
      ],
      "text/plain": [
       "             ID  Age Gender COPD History Genetic Markers  \\\n",
       "0  1.468154e+16   42   Male           No     Not Present   \n",
       "1  1.271684e+18   72   Male          Yes     Not Present   \n",
       "2  1.708068e+18   65   Male          Yes     Not Present   \n",
       "3  3.555829e+17   67   Male           No     Not Present   \n",
       "4  1.684598e+18   54   Male          Yes     Not Present   \n",
       "\n",
       "  Air Pollution Exposure  Last Weight  Current Weight Start Smoking  \\\n",
       "0                 Medium           73              69          2015   \n",
       "1                   High           50              42          2006   \n",
       "2                    Low           65              75          1998   \n",
       "3                   High           69              58          2011   \n",
       "4                 Medium           46              40          1994   \n",
       "\n",
       "    Stop Smoking Taken Bronchodilators Frequency of Tiredness Dominant Hand  \\\n",
       "0           2020                    No             None / Low         Right   \n",
       "1           2012                   Yes                 Medium         Right   \n",
       "2  Still Smoking                   Yes             None / Low         Right   \n",
       "3           2014                    No             None / Low         Right   \n",
       "4           2017                   Yes             None / Low         Right   \n",
       "\n",
       "   Lung Cancer Occurrence  \n",
       "0                       1  \n",
       "1                       1  \n",
       "2                       0  \n",
       "3                       1  \n",
       "4                       0  "
      ]
     },
     "execution_count": 4,
     "metadata": {},
     "output_type": "execute_result"
    }
   ],
   "source": [
    "df.head()"
   ]
  },
  {
   "cell_type": "code",
   "execution_count": 5,
   "id": "431931f4-fbf4-4c01-ab3d-4f36537facc7",
   "metadata": {},
   "outputs": [],
   "source": [
    "new_columns = [\"id\", \"age\", \"gender\", \"copdhis\", \"genmarkers\", \"airpolexp\", \"lastw\", \"curw\", \"strsmoke\", \"stosmoke\", \"takbroncho\", \"freqtired\", \"domhand\", \"lcancerocc\"]"
   ]
  },
  {
   "cell_type": "code",
   "execution_count": 7,
   "id": "3286a9bc-d798-44f7-961b-cac150427fe1",
   "metadata": {},
   "outputs": [],
   "source": [
    "df.columns = new_columns"
   ]
  },
  {
   "cell_type": "code",
   "execution_count": 8,
   "id": "9e63ea30-ab25-48bb-a6a4-6a226454e133",
   "metadata": {},
   "outputs": [
    {
     "data": {
      "text/html": [
       "<div>\n",
       "<style scoped>\n",
       "    .dataframe tbody tr th:only-of-type {\n",
       "        vertical-align: middle;\n",
       "    }\n",
       "\n",
       "    .dataframe tbody tr th {\n",
       "        vertical-align: top;\n",
       "    }\n",
       "\n",
       "    .dataframe thead th {\n",
       "        text-align: right;\n",
       "    }\n",
       "</style>\n",
       "<table border=\"1\" class=\"dataframe\">\n",
       "  <thead>\n",
       "    <tr style=\"text-align: right;\">\n",
       "      <th></th>\n",
       "      <th>id</th>\n",
       "      <th>age</th>\n",
       "      <th>gender</th>\n",
       "      <th>copdhis</th>\n",
       "      <th>genmarkers</th>\n",
       "      <th>airpolexp</th>\n",
       "      <th>lastw</th>\n",
       "      <th>curw</th>\n",
       "      <th>strsmoke</th>\n",
       "      <th>stosmoke</th>\n",
       "      <th>takbroncho</th>\n",
       "      <th>freqtired</th>\n",
       "      <th>domhand</th>\n",
       "      <th>lcancerocc</th>\n",
       "    </tr>\n",
       "  </thead>\n",
       "  <tbody>\n",
       "    <tr>\n",
       "      <th>0</th>\n",
       "      <td>1.468154e+16</td>\n",
       "      <td>42</td>\n",
       "      <td>Male</td>\n",
       "      <td>No</td>\n",
       "      <td>Not Present</td>\n",
       "      <td>Medium</td>\n",
       "      <td>73</td>\n",
       "      <td>69</td>\n",
       "      <td>2015</td>\n",
       "      <td>2020</td>\n",
       "      <td>No</td>\n",
       "      <td>None / Low</td>\n",
       "      <td>Right</td>\n",
       "      <td>1</td>\n",
       "    </tr>\n",
       "    <tr>\n",
       "      <th>1</th>\n",
       "      <td>1.271684e+18</td>\n",
       "      <td>72</td>\n",
       "      <td>Male</td>\n",
       "      <td>Yes</td>\n",
       "      <td>Not Present</td>\n",
       "      <td>High</td>\n",
       "      <td>50</td>\n",
       "      <td>42</td>\n",
       "      <td>2006</td>\n",
       "      <td>2012</td>\n",
       "      <td>Yes</td>\n",
       "      <td>Medium</td>\n",
       "      <td>Right</td>\n",
       "      <td>1</td>\n",
       "    </tr>\n",
       "    <tr>\n",
       "      <th>2</th>\n",
       "      <td>1.708068e+18</td>\n",
       "      <td>65</td>\n",
       "      <td>Male</td>\n",
       "      <td>Yes</td>\n",
       "      <td>Not Present</td>\n",
       "      <td>Low</td>\n",
       "      <td>65</td>\n",
       "      <td>75</td>\n",
       "      <td>1998</td>\n",
       "      <td>Still Smoking</td>\n",
       "      <td>Yes</td>\n",
       "      <td>None / Low</td>\n",
       "      <td>Right</td>\n",
       "      <td>0</td>\n",
       "    </tr>\n",
       "    <tr>\n",
       "      <th>3</th>\n",
       "      <td>3.555829e+17</td>\n",
       "      <td>67</td>\n",
       "      <td>Male</td>\n",
       "      <td>No</td>\n",
       "      <td>Not Present</td>\n",
       "      <td>High</td>\n",
       "      <td>69</td>\n",
       "      <td>58</td>\n",
       "      <td>2011</td>\n",
       "      <td>2014</td>\n",
       "      <td>No</td>\n",
       "      <td>None / Low</td>\n",
       "      <td>Right</td>\n",
       "      <td>1</td>\n",
       "    </tr>\n",
       "    <tr>\n",
       "      <th>4</th>\n",
       "      <td>1.684598e+18</td>\n",
       "      <td>54</td>\n",
       "      <td>Male</td>\n",
       "      <td>Yes</td>\n",
       "      <td>Not Present</td>\n",
       "      <td>Medium</td>\n",
       "      <td>46</td>\n",
       "      <td>40</td>\n",
       "      <td>1994</td>\n",
       "      <td>2017</td>\n",
       "      <td>Yes</td>\n",
       "      <td>None / Low</td>\n",
       "      <td>Right</td>\n",
       "      <td>0</td>\n",
       "    </tr>\n",
       "  </tbody>\n",
       "</table>\n",
       "</div>"
      ],
      "text/plain": [
       "             id  age gender copdhis   genmarkers airpolexp  lastw  curw  \\\n",
       "0  1.468154e+16   42   Male      No  Not Present    Medium     73    69   \n",
       "1  1.271684e+18   72   Male     Yes  Not Present      High     50    42   \n",
       "2  1.708068e+18   65   Male     Yes  Not Present       Low     65    75   \n",
       "3  3.555829e+17   67   Male      No  Not Present      High     69    58   \n",
       "4  1.684598e+18   54   Male     Yes  Not Present    Medium     46    40   \n",
       "\n",
       "  strsmoke       stosmoke takbroncho   freqtired domhand  lcancerocc  \n",
       "0     2015           2020         No  None / Low   Right           1  \n",
       "1     2006           2012        Yes      Medium   Right           1  \n",
       "2     1998  Still Smoking        Yes  None / Low   Right           0  \n",
       "3     2011           2014         No  None / Low   Right           1  \n",
       "4     1994           2017        Yes  None / Low   Right           0  "
      ]
     },
     "execution_count": 8,
     "metadata": {},
     "output_type": "execute_result"
    }
   ],
   "source": [
    "df.head()"
   ]
  },
  {
   "cell_type": "code",
   "execution_count": 346,
   "id": "a896072e-fd8d-4209-a806-74fd26566c79",
   "metadata": {},
   "outputs": [
    {
     "name": "stdout",
     "output_type": "stream",
     "text": [
      "                 id  age  gender copdhis   genmarkers airpolexp  lastw  curw  \\\n",
      "0      1.468154e+16   42    Male      No  Not Present    Medium     73    69   \n",
      "1      1.271684e+18   72    Male     Yes  Not Present      High     50    42   \n",
      "2      1.708068e+18   65    Male     Yes  Not Present       Low     65    75   \n",
      "3      3.555829e+17   67    Male      No  Not Present      High     69    58   \n",
      "4      1.684598e+18   54    Male     Yes  Not Present    Medium     46    40   \n",
      "...             ...  ...     ...     ...          ...       ...    ...   ...   \n",
      "10343  6.202150e+17   47    Male     Yes      Present       Low     55    50   \n",
      "10344  1.157407e+18   59  Female     Yes  Not Present       Low     80    81   \n",
      "10345  1.488014e+18   34    Male      No  Not Present      High     65    57   \n",
      "10346  3.987035e+17   69    Male      No  Not Present      High     81    75   \n",
      "10347  1.297767e+18   60    MALE    None  Not Present    Medium     82    75   \n",
      "\n",
      "      strsmoke       stosmoke takbroncho   freqtired    domhand  lcancerocc  \n",
      "0         2015           2020         No  None / Low      Right           1  \n",
      "1         2006           2012        Yes      Medium      Right           1  \n",
      "2         1998  Still Smoking        Yes  None / Low      Right           0  \n",
      "3         2011           2014         No  None / Low      Right           1  \n",
      "4         1994           2017        Yes  None / Low      Right           0  \n",
      "...        ...            ...        ...         ...        ...         ...  \n",
      "10343     2009  Still Smoking        Yes      Medium      Right           0  \n",
      "10344     2008           2011        Yes      Medium  RightBoth           0  \n",
      "10345     2020  Still Smoking         No      Medium  RightBoth           1  \n",
      "10346     2014  Still Smoking         No      Medium      Right           1  \n",
      "10347     1969           1982         No  None / Low      Right           0  \n",
      "\n",
      "[10119 rows x 14 columns]\n"
     ]
    }
   ],
   "source": [
    "df = df[df['age'] >= 0]\n",
    "print(df)"
   ]
  },
  {
   "cell_type": "markdown",
   "id": "39c3c7f6-3b8a-456d-9672-3bb3aa90d5ba",
   "metadata": {},
   "source": [
    "--> Below provides info on Nan, Non-null and data type info. <br>\n",
    "--> Please notice that there is decrease in non-null data for COPD history, Air Pollustion exposure & Taken Bronchodilators."
   ]
  },
  {
   "cell_type": "code",
   "execution_count": 9,
   "id": "af3c8084-e001-4ceb-a3e8-7d241868dfb7",
   "metadata": {},
   "outputs": [
    {
     "name": "stdout",
     "output_type": "stream",
     "text": [
      "<class 'pandas.core.frame.DataFrame'>\n",
      "RangeIndex: 10348 entries, 0 to 10347\n",
      "Data columns (total 14 columns):\n",
      " #   Column      Non-Null Count  Dtype  \n",
      "---  ------      --------------  -----  \n",
      " 0   id          10348 non-null  float64\n",
      " 1   age         10348 non-null  int64  \n",
      " 2   gender      10348 non-null  object \n",
      " 3   copdhis     9236 non-null   object \n",
      " 4   genmarkers  10348 non-null  object \n",
      " 5   airpolexp   10345 non-null  object \n",
      " 6   lastw       10348 non-null  int64  \n",
      " 7   curw        10348 non-null  int64  \n",
      " 8   strsmoke    10348 non-null  object \n",
      " 9   stosmoke    10348 non-null  object \n",
      " 10  takbroncho  9287 non-null   object \n",
      " 11  freqtired   10348 non-null  object \n",
      " 12  domhand     10348 non-null  object \n",
      " 13  lcancerocc  10348 non-null  int64  \n",
      "dtypes: float64(1), int64(4), object(9)\n",
      "memory usage: 1.1+ MB\n"
     ]
    }
   ],
   "source": [
    "df.info()"
   ]
  },
  {
   "cell_type": "markdown",
   "id": "578fe3e1-49ad-476a-8f52-73ec52443f08",
   "metadata": {},
   "source": [
    "--> Below provides high level info on your data types."
   ]
  },
  {
   "cell_type": "code",
   "execution_count": 10,
   "id": "6f245c9d-c91c-4198-a0cc-3503143543cc",
   "metadata": {},
   "outputs": [
    {
     "data": {
      "text/plain": [
       "id            float64\n",
       "age             int64\n",
       "gender         object\n",
       "copdhis        object\n",
       "genmarkers     object\n",
       "airpolexp      object\n",
       "lastw           int64\n",
       "curw            int64\n",
       "strsmoke       object\n",
       "stosmoke       object\n",
       "takbroncho     object\n",
       "freqtired      object\n",
       "domhand        object\n",
       "lcancerocc      int64\n",
       "dtype: object"
      ]
     },
     "execution_count": 10,
     "metadata": {},
     "output_type": "execute_result"
    }
   ],
   "source": [
    "df.dtypes"
   ]
  },
  {
   "cell_type": "markdown",
   "id": "0bc676b2-3399-4d9f-a698-cf912ddcf7a2",
   "metadata": {},
   "source": [
    "--> Below helps to show how many null data points in the database for each column. <br>\n",
    "--> Here, please check there are about 1083 and 1037 null records under COPD History and Taken Bronchodilators columns respectively."
   ]
  },
  {
   "cell_type": "code",
   "execution_count": 11,
   "id": "b835ebed-1d21-439f-8191-379413af1d64",
   "metadata": {},
   "outputs": [
    {
     "data": {
      "text/plain": [
       "id               0\n",
       "age              0\n",
       "gender           0\n",
       "copdhis       1112\n",
       "genmarkers       0\n",
       "airpolexp        3\n",
       "lastw            0\n",
       "curw             0\n",
       "strsmoke         0\n",
       "stosmoke         0\n",
       "takbroncho    1061\n",
       "freqtired        0\n",
       "domhand          0\n",
       "lcancerocc       0\n",
       "dtype: int64"
      ]
     },
     "execution_count": 11,
     "metadata": {},
     "output_type": "execute_result"
    }
   ],
   "source": [
    "df.isna().sum()"
   ]
  },
  {
   "cell_type": "code",
   "execution_count": 12,
   "id": "ae48dd38-6a84-4e9a-b98d-bd08097ace64",
   "metadata": {},
   "outputs": [
    {
     "data": {
      "text/html": [
       "<div>\n",
       "<style scoped>\n",
       "    .dataframe tbody tr th:only-of-type {\n",
       "        vertical-align: middle;\n",
       "    }\n",
       "\n",
       "    .dataframe tbody tr th {\n",
       "        vertical-align: top;\n",
       "    }\n",
       "\n",
       "    .dataframe thead th {\n",
       "        text-align: right;\n",
       "    }\n",
       "</style>\n",
       "<table border=\"1\" class=\"dataframe\">\n",
       "  <thead>\n",
       "    <tr style=\"text-align: right;\">\n",
       "      <th></th>\n",
       "      <th>Total missing value</th>\n",
       "    </tr>\n",
       "  </thead>\n",
       "  <tbody>\n",
       "    <tr>\n",
       "      <th>id</th>\n",
       "      <td>0</td>\n",
       "    </tr>\n",
       "    <tr>\n",
       "      <th>age</th>\n",
       "      <td>0</td>\n",
       "    </tr>\n",
       "    <tr>\n",
       "      <th>gender</th>\n",
       "      <td>0</td>\n",
       "    </tr>\n",
       "    <tr>\n",
       "      <th>copdhis</th>\n",
       "      <td>1112</td>\n",
       "    </tr>\n",
       "    <tr>\n",
       "      <th>genmarkers</th>\n",
       "      <td>0</td>\n",
       "    </tr>\n",
       "    <tr>\n",
       "      <th>airpolexp</th>\n",
       "      <td>3</td>\n",
       "    </tr>\n",
       "    <tr>\n",
       "      <th>lastw</th>\n",
       "      <td>0</td>\n",
       "    </tr>\n",
       "    <tr>\n",
       "      <th>curw</th>\n",
       "      <td>0</td>\n",
       "    </tr>\n",
       "    <tr>\n",
       "      <th>strsmoke</th>\n",
       "      <td>0</td>\n",
       "    </tr>\n",
       "    <tr>\n",
       "      <th>stosmoke</th>\n",
       "      <td>0</td>\n",
       "    </tr>\n",
       "    <tr>\n",
       "      <th>takbroncho</th>\n",
       "      <td>1061</td>\n",
       "    </tr>\n",
       "    <tr>\n",
       "      <th>freqtired</th>\n",
       "      <td>0</td>\n",
       "    </tr>\n",
       "    <tr>\n",
       "      <th>domhand</th>\n",
       "      <td>0</td>\n",
       "    </tr>\n",
       "    <tr>\n",
       "      <th>lcancerocc</th>\n",
       "      <td>0</td>\n",
       "    </tr>\n",
       "  </tbody>\n",
       "</table>\n",
       "</div>"
      ],
      "text/plain": [
       "            Total missing value\n",
       "id                            0\n",
       "age                           0\n",
       "gender                        0\n",
       "copdhis                    1112\n",
       "genmarkers                    0\n",
       "airpolexp                     3\n",
       "lastw                         0\n",
       "curw                          0\n",
       "strsmoke                      0\n",
       "stosmoke                      0\n",
       "takbroncho                 1061\n",
       "freqtired                     0\n",
       "domhand                       0\n",
       "lcancerocc                    0"
      ]
     },
     "execution_count": 12,
     "metadata": {},
     "output_type": "execute_result"
    }
   ],
   "source": [
    "isnull_number = []\n",
    "for i in df.columns:\n",
    "    x = df[i].isnull().sum()\n",
    "    isnull_number.append(x)\n",
    "\n",
    "pd.DataFrame(isnull_number, index = df.columns, columns = [\"Total missing value\"])"
   ]
  },
  {
   "cell_type": "code",
   "execution_count": 13,
   "id": "5a91c067-ff95-4c01-b0dc-a58c3f493b3d",
   "metadata": {},
   "outputs": [
    {
     "name": "stdout",
     "output_type": "stream",
     "text": [
      "                 id  age  gender copdhis   genmarkers airpolexp  lastw  curw  \\\n",
      "0      1.468154e+16   42    Male      No  Not Present    Medium     73    69   \n",
      "1      1.271684e+18   72    Male     Yes  Not Present      High     50    42   \n",
      "2      1.708068e+18   65    Male     Yes  Not Present       Low     65    75   \n",
      "3      3.555829e+17   67    Male      No  Not Present      High     69    58   \n",
      "4      1.684598e+18   54    Male     Yes  Not Present    Medium     46    40   \n",
      "...             ...  ...     ...     ...          ...       ...    ...   ...   \n",
      "10342  7.785505e+17   71    Male     Yes  Not Present      High    100    93   \n",
      "10343  6.202150e+17   47    Male     Yes      Present       Low     55    50   \n",
      "10344  1.157407e+18   59  Female     Yes  Not Present       Low     80    81   \n",
      "10345  1.488014e+18   34    Male      No  Not Present      High     65    57   \n",
      "10346  3.987035e+17   69    Male      No  Not Present      High     81    75   \n",
      "\n",
      "      strsmoke       stosmoke takbroncho   freqtired    domhand  lcancerocc  \n",
      "0         2015           2020         No  None / Low      Right           1  \n",
      "1         2006           2012        Yes      Medium      Right           1  \n",
      "2         1998  Still Smoking        Yes  None / Low      Right           0  \n",
      "3         2011           2014         No  None / Low      Right           1  \n",
      "4         1994           2017        Yes  None / Low      Right           0  \n",
      "...        ...            ...        ...         ...        ...         ...  \n",
      "10342     1958           2015        Yes        High      Right           0  \n",
      "10343     2009  Still Smoking        Yes      Medium      Right           0  \n",
      "10344     2008           2011        Yes      Medium  RightBoth           0  \n",
      "10345     2020  Still Smoking         No      Medium  RightBoth           1  \n",
      "10346     2014  Still Smoking         No      Medium      Right           1  \n",
      "\n",
      "[8708 rows x 14 columns]\n"
     ]
    }
   ],
   "source": [
    "# con = sqlite3.connect(\"C:/Users/Tittu/Downloads/lung_cancer.db\")\n",
    "# df = pd.read_sql_query(\"SELECT * from lung_cancer\", con)\n",
    "df.dropna(subset=['copdhis', 'takbroncho' ], inplace=True)\n",
    "\n",
    "print(df)"
   ]
  },
  {
   "cell_type": "code",
   "execution_count": 14,
   "id": "9e51929b-f1d5-4a06-9ad8-2125bf5f7e07",
   "metadata": {},
   "outputs": [
    {
     "name": "stdout",
     "output_type": "stream",
     "text": [
      "Share of dataset: (8708, 14)\n"
     ]
    }
   ],
   "source": [
    "print('Share of dataset:', df.shape)"
   ]
  },
  {
   "cell_type": "code",
   "execution_count": 15,
   "id": "2ce029b4-f903-47f5-b949-395473449908",
   "metadata": {},
   "outputs": [
    {
     "data": {
      "text/html": [
       "<div>\n",
       "<style scoped>\n",
       "    .dataframe tbody tr th:only-of-type {\n",
       "        vertical-align: middle;\n",
       "    }\n",
       "\n",
       "    .dataframe tbody tr th {\n",
       "        vertical-align: top;\n",
       "    }\n",
       "\n",
       "    .dataframe thead th {\n",
       "        text-align: right;\n",
       "    }\n",
       "</style>\n",
       "<table border=\"1\" class=\"dataframe\">\n",
       "  <thead>\n",
       "    <tr style=\"text-align: right;\">\n",
       "      <th></th>\n",
       "      <th>id</th>\n",
       "      <th>age</th>\n",
       "      <th>lastw</th>\n",
       "      <th>curw</th>\n",
       "      <th>lcancerocc</th>\n",
       "    </tr>\n",
       "  </thead>\n",
       "  <tbody>\n",
       "    <tr>\n",
       "      <th>count</th>\n",
       "      <td>8.708000e+03</td>\n",
       "      <td>8708.000000</td>\n",
       "      <td>8708.000000</td>\n",
       "      <td>8708.000000</td>\n",
       "      <td>8708.000000</td>\n",
       "    </tr>\n",
       "    <tr>\n",
       "      <th>mean</th>\n",
       "      <td>1.151585e+18</td>\n",
       "      <td>61.347497</td>\n",
       "      <td>72.303744</td>\n",
       "      <td>69.352779</td>\n",
       "      <td>0.541915</td>\n",
       "    </tr>\n",
       "    <tr>\n",
       "      <th>std</th>\n",
       "      <td>6.673262e+17</td>\n",
       "      <td>23.566855</td>\n",
       "      <td>16.172975</td>\n",
       "      <td>16.922031</td>\n",
       "      <td>0.498269</td>\n",
       "    </tr>\n",
       "    <tr>\n",
       "      <th>min</th>\n",
       "      <td>4.137510e+13</td>\n",
       "      <td>-104.000000</td>\n",
       "      <td>45.000000</td>\n",
       "      <td>36.000000</td>\n",
       "      <td>0.000000</td>\n",
       "    </tr>\n",
       "    <tr>\n",
       "      <th>25%</th>\n",
       "      <td>5.658598e+17</td>\n",
       "      <td>54.000000</td>\n",
       "      <td>58.000000</td>\n",
       "      <td>55.000000</td>\n",
       "      <td>0.000000</td>\n",
       "    </tr>\n",
       "    <tr>\n",
       "      <th>50%</th>\n",
       "      <td>1.153920e+18</td>\n",
       "      <td>64.000000</td>\n",
       "      <td>72.000000</td>\n",
       "      <td>69.000000</td>\n",
       "      <td>1.000000</td>\n",
       "    </tr>\n",
       "    <tr>\n",
       "      <th>75%</th>\n",
       "      <td>1.721909e+18</td>\n",
       "      <td>74.000000</td>\n",
       "      <td>86.000000</td>\n",
       "      <td>82.000000</td>\n",
       "      <td>1.000000</td>\n",
       "    </tr>\n",
       "    <tr>\n",
       "      <th>max</th>\n",
       "      <td>2.305810e+18</td>\n",
       "      <td>120.000000</td>\n",
       "      <td>100.000000</td>\n",
       "      <td>115.000000</td>\n",
       "      <td>1.000000</td>\n",
       "    </tr>\n",
       "  </tbody>\n",
       "</table>\n",
       "</div>"
      ],
      "text/plain": [
       "                 id          age        lastw         curw   lcancerocc\n",
       "count  8.708000e+03  8708.000000  8708.000000  8708.000000  8708.000000\n",
       "mean   1.151585e+18    61.347497    72.303744    69.352779     0.541915\n",
       "std    6.673262e+17    23.566855    16.172975    16.922031     0.498269\n",
       "min    4.137510e+13  -104.000000    45.000000    36.000000     0.000000\n",
       "25%    5.658598e+17    54.000000    58.000000    55.000000     0.000000\n",
       "50%    1.153920e+18    64.000000    72.000000    69.000000     1.000000\n",
       "75%    1.721909e+18    74.000000    86.000000    82.000000     1.000000\n",
       "max    2.305810e+18   120.000000   100.000000   115.000000     1.000000"
      ]
     },
     "execution_count": 15,
     "metadata": {},
     "output_type": "execute_result"
    }
   ],
   "source": [
    "df.describe()"
   ]
  },
  {
   "cell_type": "code",
   "execution_count": 16,
   "id": "5a256a6b-6571-4953-a22e-4be3c34f0b4a",
   "metadata": {},
   "outputs": [
    {
     "data": {
      "text/html": [
       "<div>\n",
       "<style scoped>\n",
       "    .dataframe tbody tr th:only-of-type {\n",
       "        vertical-align: middle;\n",
       "    }\n",
       "\n",
       "    .dataframe tbody tr th {\n",
       "        vertical-align: top;\n",
       "    }\n",
       "\n",
       "    .dataframe thead th {\n",
       "        text-align: right;\n",
       "    }\n",
       "</style>\n",
       "<table border=\"1\" class=\"dataframe\">\n",
       "  <thead>\n",
       "    <tr style=\"text-align: right;\">\n",
       "      <th></th>\n",
       "      <th>id</th>\n",
       "      <th>age</th>\n",
       "      <th>gender</th>\n",
       "      <th>copdhis</th>\n",
       "      <th>genmarkers</th>\n",
       "      <th>airpolexp</th>\n",
       "      <th>lastw</th>\n",
       "      <th>curw</th>\n",
       "      <th>strsmoke</th>\n",
       "      <th>stosmoke</th>\n",
       "      <th>takbroncho</th>\n",
       "      <th>freqtired</th>\n",
       "      <th>domhand</th>\n",
       "      <th>lcancerocc</th>\n",
       "    </tr>\n",
       "  </thead>\n",
       "  <tbody>\n",
       "    <tr>\n",
       "      <th>0</th>\n",
       "      <td>1.468154e+16</td>\n",
       "      <td>42</td>\n",
       "      <td>Male</td>\n",
       "      <td>No</td>\n",
       "      <td>Not Present</td>\n",
       "      <td>Medium</td>\n",
       "      <td>73</td>\n",
       "      <td>69</td>\n",
       "      <td>2015</td>\n",
       "      <td>2020</td>\n",
       "      <td>No</td>\n",
       "      <td>None / Low</td>\n",
       "      <td>Right</td>\n",
       "      <td>1</td>\n",
       "    </tr>\n",
       "    <tr>\n",
       "      <th>1</th>\n",
       "      <td>1.271684e+18</td>\n",
       "      <td>72</td>\n",
       "      <td>Male</td>\n",
       "      <td>Yes</td>\n",
       "      <td>Not Present</td>\n",
       "      <td>High</td>\n",
       "      <td>50</td>\n",
       "      <td>42</td>\n",
       "      <td>2006</td>\n",
       "      <td>2012</td>\n",
       "      <td>Yes</td>\n",
       "      <td>Medium</td>\n",
       "      <td>Right</td>\n",
       "      <td>1</td>\n",
       "    </tr>\n",
       "    <tr>\n",
       "      <th>2</th>\n",
       "      <td>1.708068e+18</td>\n",
       "      <td>65</td>\n",
       "      <td>Male</td>\n",
       "      <td>Yes</td>\n",
       "      <td>Not Present</td>\n",
       "      <td>Low</td>\n",
       "      <td>65</td>\n",
       "      <td>75</td>\n",
       "      <td>1998</td>\n",
       "      <td>Still Smoking</td>\n",
       "      <td>Yes</td>\n",
       "      <td>None / Low</td>\n",
       "      <td>Right</td>\n",
       "      <td>0</td>\n",
       "    </tr>\n",
       "    <tr>\n",
       "      <th>3</th>\n",
       "      <td>3.555829e+17</td>\n",
       "      <td>67</td>\n",
       "      <td>Male</td>\n",
       "      <td>No</td>\n",
       "      <td>Not Present</td>\n",
       "      <td>High</td>\n",
       "      <td>69</td>\n",
       "      <td>58</td>\n",
       "      <td>2011</td>\n",
       "      <td>2014</td>\n",
       "      <td>No</td>\n",
       "      <td>None / Low</td>\n",
       "      <td>Right</td>\n",
       "      <td>1</td>\n",
       "    </tr>\n",
       "    <tr>\n",
       "      <th>4</th>\n",
       "      <td>1.684598e+18</td>\n",
       "      <td>54</td>\n",
       "      <td>Male</td>\n",
       "      <td>Yes</td>\n",
       "      <td>Not Present</td>\n",
       "      <td>Medium</td>\n",
       "      <td>46</td>\n",
       "      <td>40</td>\n",
       "      <td>1994</td>\n",
       "      <td>2017</td>\n",
       "      <td>Yes</td>\n",
       "      <td>None / Low</td>\n",
       "      <td>Right</td>\n",
       "      <td>0</td>\n",
       "    </tr>\n",
       "  </tbody>\n",
       "</table>\n",
       "</div>"
      ],
      "text/plain": [
       "             id  age gender copdhis   genmarkers airpolexp  lastw  curw  \\\n",
       "0  1.468154e+16   42   Male      No  Not Present    Medium     73    69   \n",
       "1  1.271684e+18   72   Male     Yes  Not Present      High     50    42   \n",
       "2  1.708068e+18   65   Male     Yes  Not Present       Low     65    75   \n",
       "3  3.555829e+17   67   Male      No  Not Present      High     69    58   \n",
       "4  1.684598e+18   54   Male     Yes  Not Present    Medium     46    40   \n",
       "\n",
       "  strsmoke       stosmoke takbroncho   freqtired domhand  lcancerocc  \n",
       "0     2015           2020         No  None / Low   Right           1  \n",
       "1     2006           2012        Yes      Medium   Right           1  \n",
       "2     1998  Still Smoking        Yes  None / Low   Right           0  \n",
       "3     2011           2014         No  None / Low   Right           1  \n",
       "4     1994           2017        Yes  None / Low   Right           0  "
      ]
     },
     "execution_count": 16,
     "metadata": {},
     "output_type": "execute_result"
    }
   ],
   "source": [
    "df.head()"
   ]
  },
  {
   "cell_type": "code",
   "execution_count": 17,
   "id": "81b82433-8070-4c1d-86ae-3198789d66b5",
   "metadata": {},
   "outputs": [
    {
     "data": {
      "text/plain": [
       "<Axes: >"
      ]
     },
     "execution_count": 17,
     "metadata": {},
     "output_type": "execute_result"
    },
    {
     "data": {
      "image/png": "[encoded data removed]",
      "text/plain": [
       "<Figure size 640x480 with 2 Axes>"
      ]
     },
     "metadata": {},
     "output_type": "display_data"
    }
   ],
   "source": [
    "import seaborn as sns\n",
    "sns.heatmap(df.isnull())"
   ]
  },
  {
   "cell_type": "code",
   "execution_count": 18,
   "id": "ff24c311-ec87-4adc-b86b-473008a61d61",
   "metadata": {},
   "outputs": [
    {
     "data": {
      "text/plain": [
       "<Axes: xlabel='stosmoke', ylabel='count'>"
      ]
     },
     "execution_count": 18,
     "metadata": {},
     "output_type": "execute_result"
    },
    {
     "data": {
      "image/png": "[encoded data removed]",
      "text/plain": [
       "<Figure size 1000x500 with 1 Axes>"
      ]
     },
     "metadata": {},
     "output_type": "display_data"
    }
   ],
   "source": [
    "plt.figure(figsize=(10,5))\n",
    "sns.countplot(x='stosmoke',data=df)"
   ]
  },
  {
   "cell_type": "code",
   "execution_count": 19,
   "id": "82efbb4d-0758-409c-a428-c4ea7af75efc",
   "metadata": {},
   "outputs": [
    {
     "data": {
      "text/plain": [
       "<Axes: xlabel='strsmoke', ylabel='count'>"
      ]
     },
     "execution_count": 19,
     "metadata": {},
     "output_type": "execute_result"
    },
    {
     "data": {
      "image/png": "[encoded data removed]",
      "text/plain": [
       "<Figure size 1000x500 with 1 Axes>"
      ]
     },
     "metadata": {},
     "output_type": "display_data"
    }
   ],
   "source": [
    "plt.figure(figsize=(10,5))\n",
    "sns.countplot(x='strsmoke',data=df)"
   ]
  },
  {
   "cell_type": "code",
   "execution_count": 20,
   "id": "e63d52b5-ae4b-47a9-b642-f5a48be48790",
   "metadata": {},
   "outputs": [
    {
     "ename": "ValueError",
     "evalue": "Could not interpret input 'Taken Bronchodilators'",
     "output_type": "error",
     "traceback": [
      "\u001b[1;31m---------------------------------------------------------------------------\u001b[0m",
      "\u001b[1;31mValueError\u001b[0m                                Traceback (most recent call last)",
      "Cell \u001b[1;32mIn[20], line 2\u001b[0m\n\u001b[0;32m      1\u001b[0m plt\u001b[38;5;241m.\u001b[39mfigure(figsize\u001b[38;5;241m=\u001b[39m(\u001b[38;5;241m10\u001b[39m,\u001b[38;5;241m5\u001b[39m))\n\u001b[1;32m----> 2\u001b[0m sns\u001b[38;5;241m.\u001b[39mcountplot(x\u001b[38;5;241m=\u001b[39m\u001b[38;5;124m'\u001b[39m\u001b[38;5;124mTaken Bronchodilators\u001b[39m\u001b[38;5;124m'\u001b[39m,data \u001b[38;5;241m=\u001b[39m df)\n",
      "File \u001b[1;32m~\\anaconda3.1\\Lib\\site-packages\\seaborn\\categorical.py:2943\u001b[0m, in \u001b[0;36mcountplot\u001b[1;34m(data, x, y, hue, order, hue_order, orient, color, palette, saturation, width, dodge, ax, **kwargs)\u001b[0m\n\u001b[0;32m   2940\u001b[0m \u001b[38;5;28;01melif\u001b[39;00m x \u001b[38;5;129;01mis\u001b[39;00m \u001b[38;5;129;01mnot\u001b[39;00m \u001b[38;5;28;01mNone\u001b[39;00m \u001b[38;5;129;01mand\u001b[39;00m y \u001b[38;5;129;01mis\u001b[39;00m \u001b[38;5;129;01mnot\u001b[39;00m \u001b[38;5;28;01mNone\u001b[39;00m:\n\u001b[0;32m   2941\u001b[0m     \u001b[38;5;28;01mraise\u001b[39;00m \u001b[38;5;167;01mValueError\u001b[39;00m(\u001b[38;5;124m\"\u001b[39m\u001b[38;5;124mCannot pass values for both `x` and `y`\u001b[39m\u001b[38;5;124m\"\u001b[39m)\n\u001b[1;32m-> 2943\u001b[0m plotter \u001b[38;5;241m=\u001b[39m _CountPlotter(\n\u001b[0;32m   2944\u001b[0m     x, y, hue, data, order, hue_order,\n\u001b[0;32m   2945\u001b[0m     estimator, errorbar, n_boot, units, seed,\n\u001b[0;32m   2946\u001b[0m     orient, color, palette, saturation,\n\u001b[0;32m   2947\u001b[0m     width, errcolor, errwidth, capsize, dodge\n\u001b[0;32m   2948\u001b[0m )\n\u001b[0;32m   2950\u001b[0m plotter\u001b[38;5;241m.\u001b[39mvalue_label \u001b[38;5;241m=\u001b[39m \u001b[38;5;124m\"\u001b[39m\u001b[38;5;124mcount\u001b[39m\u001b[38;5;124m\"\u001b[39m\n\u001b[0;32m   2952\u001b[0m \u001b[38;5;28;01mif\u001b[39;00m ax \u001b[38;5;129;01mis\u001b[39;00m \u001b[38;5;28;01mNone\u001b[39;00m:\n",
      "File \u001b[1;32m~\\anaconda3.1\\Lib\\site-packages\\seaborn\\categorical.py:1530\u001b[0m, in \u001b[0;36m_BarPlotter.__init__\u001b[1;34m(self, x, y, hue, data, order, hue_order, estimator, errorbar, n_boot, units, seed, orient, color, palette, saturation, width, errcolor, errwidth, capsize, dodge)\u001b[0m\n\u001b[0;32m   1525\u001b[0m \u001b[38;5;28;01mdef\u001b[39;00m \u001b[38;5;21m__init__\u001b[39m(\u001b[38;5;28mself\u001b[39m, x, y, hue, data, order, hue_order,\n\u001b[0;32m   1526\u001b[0m              estimator, errorbar, n_boot, units, seed,\n\u001b[0;32m   1527\u001b[0m              orient, color, palette, saturation, width,\n\u001b[0;32m   1528\u001b[0m              errcolor, errwidth, capsize, dodge):\n\u001b[0;32m   1529\u001b[0m \u001b[38;5;250m    \u001b[39m\u001b[38;5;124;03m\"\"\"Initialize the plotter.\"\"\"\u001b[39;00m\n\u001b[1;32m-> 1530\u001b[0m     \u001b[38;5;28mself\u001b[39m\u001b[38;5;241m.\u001b[39mestablish_variables(x, y, hue, data, orient,\n\u001b[0;32m   1531\u001b[0m                              order, hue_order, units)\n\u001b[0;32m   1532\u001b[0m     \u001b[38;5;28mself\u001b[39m\u001b[38;5;241m.\u001b[39mestablish_colors(color, palette, saturation)\n\u001b[0;32m   1533\u001b[0m     \u001b[38;5;28mself\u001b[39m\u001b[38;5;241m.\u001b[39mestimate_statistic(estimator, errorbar, n_boot, seed)\n",
      "File \u001b[1;32m~\\anaconda3.1\\Lib\\site-packages\\seaborn\\categorical.py:541\u001b[0m, in \u001b[0;36m_CategoricalPlotter.establish_variables\u001b[1;34m(self, x, y, hue, data, orient, order, hue_order, units)\u001b[0m\n\u001b[0;32m    539\u001b[0m     \u001b[38;5;28;01mif\u001b[39;00m \u001b[38;5;28misinstance\u001b[39m(var, \u001b[38;5;28mstr\u001b[39m):\n\u001b[0;32m    540\u001b[0m         err \u001b[38;5;241m=\u001b[39m \u001b[38;5;124mf\u001b[39m\u001b[38;5;124m\"\u001b[39m\u001b[38;5;124mCould not interpret input \u001b[39m\u001b[38;5;124m'\u001b[39m\u001b[38;5;132;01m{\u001b[39;00mvar\u001b[38;5;132;01m}\u001b[39;00m\u001b[38;5;124m'\u001b[39m\u001b[38;5;124m\"\u001b[39m\n\u001b[1;32m--> 541\u001b[0m         \u001b[38;5;28;01mraise\u001b[39;00m \u001b[38;5;167;01mValueError\u001b[39;00m(err)\n\u001b[0;32m    543\u001b[0m \u001b[38;5;66;03m# Figure out the plotting orientation\u001b[39;00m\n\u001b[0;32m    544\u001b[0m orient \u001b[38;5;241m=\u001b[39m infer_orient(\n\u001b[0;32m    545\u001b[0m     x, y, orient, require_numeric\u001b[38;5;241m=\u001b[39m\u001b[38;5;28mself\u001b[39m\u001b[38;5;241m.\u001b[39mrequire_numeric\n\u001b[0;32m    546\u001b[0m )\n",
      "\u001b[1;31mValueError\u001b[0m: Could not interpret input 'Taken Bronchodilators'"
     ]
    },
    {
     "data": {
      "text/plain": [
       "<Figure size 1000x500 with 0 Axes>"
      ]
     },
     "metadata": {},
     "output_type": "display_data"
    }
   ],
   "source": [
    "plt.figure(figsize=(10,5))\n",
    "sns.countplot(x='Taken Bronchodilators',data = df)"
   ]
  },
  {
   "cell_type": "code",
   "execution_count": 21,
   "id": "d856eb50-293c-47fb-a6bd-a5f829af2026",
   "metadata": {},
   "outputs": [
    {
     "data": {
      "text/html": [
       "<style type=\"text/css\">\n",
       "#T_b68a8_row0_col0 {\n",
       "  background-color: #fff3ed;\n",
       "  color: #000000;\n",
       "}\n",
       "#T_b68a8_row1_col0, #T_b68a8_row4_col0, #T_b68a8_row84_col0, #T_b68a8_row88_col0 {\n",
       "  background-color: #fff4ee;\n",
       "  color: #000000;\n",
       "}\n",
       "#T_b68a8_row2_col0, #T_b68a8_row3_col0, #T_b68a8_row86_col0, #T_b68a8_row89_col0, #T_b68a8_row91_col0, #T_b68a8_row92_col0 {\n",
       "  background-color: #fff4ef;\n",
       "  color: #000000;\n",
       "}\n",
       "#T_b68a8_row5_col0, #T_b68a8_row6_col0, #T_b68a8_row9_col0, #T_b68a8_row85_col0 {\n",
       "  background-color: #fff2eb;\n",
       "  color: #000000;\n",
       "}\n",
       "#T_b68a8_row7_col0, #T_b68a8_row80_col0 {\n",
       "  background-color: #ffeee6;\n",
       "  color: #000000;\n",
       "}\n",
       "#T_b68a8_row8_col0, #T_b68a8_row79_col0 {\n",
       "  background-color: #ffece3;\n",
       "  color: #000000;\n",
       "}\n",
       "#T_b68a8_row10_col0 {\n",
       "  background-color: #ffece4;\n",
       "  color: #000000;\n",
       "}\n",
       "#T_b68a8_row11_col0 {\n",
       "  background-color: #ffede5;\n",
       "  color: #000000;\n",
       "}\n",
       "#T_b68a8_row12_col0 {\n",
       "  background-color: #ffebe2;\n",
       "  color: #000000;\n",
       "}\n",
       "#T_b68a8_row13_col0 {\n",
       "  background-color: #feeae1;\n",
       "  color: #000000;\n",
       "}\n",
       "#T_b68a8_row14_col0 {\n",
       "  background-color: #fee8de;\n",
       "  color: #000000;\n",
       "}\n",
       "#T_b68a8_row15_col0 {\n",
       "  background-color: #fee0d2;\n",
       "  color: #000000;\n",
       "}\n",
       "#T_b68a8_row16_col0, #T_b68a8_row19_col0 {\n",
       "  background-color: #fedccd;\n",
       "  color: #000000;\n",
       "}\n",
       "#T_b68a8_row17_col0, #T_b68a8_row75_col0 {\n",
       "  background-color: #fee8dd;\n",
       "  color: #000000;\n",
       "}\n",
       "#T_b68a8_row18_col0 {\n",
       "  background-color: #fdd5c4;\n",
       "  color: #000000;\n",
       "}\n",
       "#T_b68a8_row20_col0 {\n",
       "  background-color: #fdc9b3;\n",
       "  color: #000000;\n",
       "}\n",
       "#T_b68a8_row21_col0 {\n",
       "  background-color: #fcbfa7;\n",
       "  color: #000000;\n",
       "}\n",
       "#T_b68a8_row22_col0 {\n",
       "  background-color: #fcc3ab;\n",
       "  color: #000000;\n",
       "}\n",
       "#T_b68a8_row23_col0 {\n",
       "  background-color: #fcc2aa;\n",
       "  color: #000000;\n",
       "}\n",
       "#T_b68a8_row24_col0 {\n",
       "  background-color: #fca98c;\n",
       "  color: #000000;\n",
       "}\n",
       "#T_b68a8_row25_col0 {\n",
       "  background-color: #fcaa8d;\n",
       "  color: #000000;\n",
       "}\n",
       "#T_b68a8_row26_col0 {\n",
       "  background-color: #fc9070;\n",
       "  color: #000000;\n",
       "}\n",
       "#T_b68a8_row27_col0 {\n",
       "  background-color: #fc8464;\n",
       "  color: #f1f1f1;\n",
       "}\n",
       "#T_b68a8_row28_col0, #T_b68a8_row62_col0 {\n",
       "  background-color: #fb7353;\n",
       "  color: #f1f1f1;\n",
       "}\n",
       "#T_b68a8_row29_col0 {\n",
       "  background-color: #fb7d5d;\n",
       "  color: #f1f1f1;\n",
       "}\n",
       "#T_b68a8_row30_col0 {\n",
       "  background-color: #de2b25;\n",
       "  color: #f1f1f1;\n",
       "}\n",
       "#T_b68a8_row31_col0 {\n",
       "  background-color: #f96346;\n",
       "  color: #f1f1f1;\n",
       "}\n",
       "#T_b68a8_row32_col0 {\n",
       "  background-color: #ed392b;\n",
       "  color: #f1f1f1;\n",
       "}\n",
       "#T_b68a8_row33_col0 {\n",
       "  background-color: #e22e27;\n",
       "  color: #f1f1f1;\n",
       "}\n",
       "#T_b68a8_row34_col0, #T_b68a8_row55_col0 {\n",
       "  background-color: #ca181d;\n",
       "  color: #f1f1f1;\n",
       "}\n",
       "#T_b68a8_row35_col0, #T_b68a8_row36_col0 {\n",
       "  background-color: #ce1a1e;\n",
       "  color: #f1f1f1;\n",
       "}\n",
       "#T_b68a8_row37_col0 {\n",
       "  background-color: #aa1016;\n",
       "  color: #f1f1f1;\n",
       "}\n",
       "#T_b68a8_row38_col0 {\n",
       "  background-color: #860811;\n",
       "  color: #f1f1f1;\n",
       "}\n",
       "#T_b68a8_row39_col0, #T_b68a8_row50_col0 {\n",
       "  background-color: #820711;\n",
       "  color: #f1f1f1;\n",
       "}\n",
       "#T_b68a8_row40_col0 {\n",
       "  background-color: #ad1117;\n",
       "  color: #f1f1f1;\n",
       "}\n",
       "#T_b68a8_row41_col0 {\n",
       "  background-color: #a91016;\n",
       "  color: #f1f1f1;\n",
       "}\n",
       "#T_b68a8_row42_col0 {\n",
       "  background-color: #67000d;\n",
       "  color: #f1f1f1;\n",
       "}\n",
       "#T_b68a8_row43_col0 {\n",
       "  background-color: #8c0912;\n",
       "  color: #f1f1f1;\n",
       "}\n",
       "#T_b68a8_row44_col0, #T_b68a8_row51_col0 {\n",
       "  background-color: #800610;\n",
       "  color: #f1f1f1;\n",
       "}\n",
       "#T_b68a8_row45_col0 {\n",
       "  background-color: #6b010e;\n",
       "  color: #f1f1f1;\n",
       "}\n",
       "#T_b68a8_row46_col0 {\n",
       "  background-color: #b01217;\n",
       "  color: #f1f1f1;\n",
       "}\n",
       "#T_b68a8_row47_col0 {\n",
       "  background-color: #9a0c14;\n",
       "  color: #f1f1f1;\n",
       "}\n",
       "#T_b68a8_row48_col0 {\n",
       "  background-color: #9c0d14;\n",
       "  color: #f1f1f1;\n",
       "}\n",
       "#T_b68a8_row49_col0 {\n",
       "  background-color: #b31218;\n",
       "  color: #f1f1f1;\n",
       "}\n",
       "#T_b68a8_row52_col0 {\n",
       "  background-color: #af1117;\n",
       "  color: #f1f1f1;\n",
       "}\n",
       "#T_b68a8_row53_col0 {\n",
       "  background-color: #c2161b;\n",
       "  color: #f1f1f1;\n",
       "}\n",
       "#T_b68a8_row54_col0 {\n",
       "  background-color: #d52221;\n",
       "  color: #f1f1f1;\n",
       "}\n",
       "#T_b68a8_row56_col0 {\n",
       "  background-color: #d82422;\n",
       "  color: #f1f1f1;\n",
       "}\n",
       "#T_b68a8_row57_col0 {\n",
       "  background-color: #da2723;\n",
       "  color: #f1f1f1;\n",
       "}\n",
       "#T_b68a8_row58_col0 {\n",
       "  background-color: #f34a36;\n",
       "  color: #f1f1f1;\n",
       "}\n",
       "#T_b68a8_row59_col0 {\n",
       "  background-color: #ef3c2c;\n",
       "  color: #f1f1f1;\n",
       "}\n",
       "#T_b68a8_row60_col0 {\n",
       "  background-color: #f96245;\n",
       "  color: #f1f1f1;\n",
       "}\n",
       "#T_b68a8_row61_col0 {\n",
       "  background-color: #f03d2d;\n",
       "  color: #f1f1f1;\n",
       "}\n",
       "#T_b68a8_row63_col0 {\n",
       "  background-color: #fc8767;\n",
       "  color: #f1f1f1;\n",
       "}\n",
       "#T_b68a8_row64_col0 {\n",
       "  background-color: #fc8e6e;\n",
       "  color: #000000;\n",
       "}\n",
       "#T_b68a8_row65_col0 {\n",
       "  background-color: #fc9c7d;\n",
       "  color: #000000;\n",
       "}\n",
       "#T_b68a8_row66_col0 {\n",
       "  background-color: #fca78b;\n",
       "  color: #000000;\n",
       "}\n",
       "#T_b68a8_row67_col0 {\n",
       "  background-color: #fcb499;\n",
       "  color: #000000;\n",
       "}\n",
       "#T_b68a8_row68_col0 {\n",
       "  background-color: #fc9777;\n",
       "  color: #000000;\n",
       "}\n",
       "#T_b68a8_row69_col0 {\n",
       "  background-color: #fdcebb;\n",
       "  color: #000000;\n",
       "}\n",
       "#T_b68a8_row70_col0 {\n",
       "  background-color: #fdcbb6;\n",
       "  color: #000000;\n",
       "}\n",
       "#T_b68a8_row71_col0 {\n",
       "  background-color: #fdcab5;\n",
       "  color: #000000;\n",
       "}\n",
       "#T_b68a8_row72_col0 {\n",
       "  background-color: #fed8c7;\n",
       "  color: #000000;\n",
       "}\n",
       "#T_b68a8_row73_col0 {\n",
       "  background-color: #fedfd0;\n",
       "  color: #000000;\n",
       "}\n",
       "#T_b68a8_row74_col0 {\n",
       "  background-color: #fedbcc;\n",
       "  color: #000000;\n",
       "}\n",
       "#T_b68a8_row76_col0, #T_b68a8_row78_col0 {\n",
       "  background-color: #fee9df;\n",
       "  color: #000000;\n",
       "}\n",
       "#T_b68a8_row77_col0 {\n",
       "  background-color: #fee7dc;\n",
       "  color: #000000;\n",
       "}\n",
       "#T_b68a8_row81_col0 {\n",
       "  background-color: #ffeee7;\n",
       "  color: #000000;\n",
       "}\n",
       "#T_b68a8_row82_col0 {\n",
       "  background-color: #ffefe8;\n",
       "  color: #000000;\n",
       "}\n",
       "#T_b68a8_row83_col0 {\n",
       "  background-color: #fff0e9;\n",
       "  color: #000000;\n",
       "}\n",
       "#T_b68a8_row87_col0, #T_b68a8_row90_col0, #T_b68a8_row93_col0 {\n",
       "  background-color: #fff5f0;\n",
       "  color: #000000;\n",
       "}\n",
       "</style>\n",
       "<table id=\"T_b68a8\">\n",
       "  <thead>\n",
       "    <tr>\n",
       "      <th class=\"blank level0\" >&nbsp;</th>\n",
       "      <th id=\"T_b68a8_level0_col0\" class=\"col_heading level0 col0\" >strsmoke</th>\n",
       "    </tr>\n",
       "    <tr>\n",
       "      <th class=\"index_name level0\" >age</th>\n",
       "      <th class=\"blank col0\" >&nbsp;</th>\n",
       "    </tr>\n",
       "  </thead>\n",
       "  <tbody>\n",
       "    <tr>\n",
       "      <th id=\"T_b68a8_level0_row0\" class=\"row_heading level0 row0\" >18</th>\n",
       "      <td id=\"T_b68a8_row0_col0\" class=\"data row0 col0\" >4</td>\n",
       "    </tr>\n",
       "    <tr>\n",
       "      <th id=\"T_b68a8_level0_row1\" class=\"row_heading level0 row1\" >20</th>\n",
       "      <td id=\"T_b68a8_row1_col0\" class=\"data row1 col0\" >3</td>\n",
       "    </tr>\n",
       "    <tr>\n",
       "      <th id=\"T_b68a8_level0_row2\" class=\"row_heading level0 row2\" >21</th>\n",
       "      <td id=\"T_b68a8_row2_col0\" class=\"data row2 col0\" >2</td>\n",
       "    </tr>\n",
       "    <tr>\n",
       "      <th id=\"T_b68a8_level0_row3\" class=\"row_heading level0 row3\" >22</th>\n",
       "      <td id=\"T_b68a8_row3_col0\" class=\"data row3 col0\" >2</td>\n",
       "    </tr>\n",
       "    <tr>\n",
       "      <th id=\"T_b68a8_level0_row4\" class=\"row_heading level0 row4\" >23</th>\n",
       "      <td id=\"T_b68a8_row4_col0\" class=\"data row4 col0\" >3</td>\n",
       "    </tr>\n",
       "    <tr>\n",
       "      <th id=\"T_b68a8_level0_row5\" class=\"row_heading level0 row5\" >24</th>\n",
       "      <td id=\"T_b68a8_row5_col0\" class=\"data row5 col0\" >6</td>\n",
       "    </tr>\n",
       "    <tr>\n",
       "      <th id=\"T_b68a8_level0_row6\" class=\"row_heading level0 row6\" >25</th>\n",
       "      <td id=\"T_b68a8_row6_col0\" class=\"data row6 col0\" >6</td>\n",
       "    </tr>\n",
       "    <tr>\n",
       "      <th id=\"T_b68a8_level0_row7\" class=\"row_heading level0 row7\" >26</th>\n",
       "      <td id=\"T_b68a8_row7_col0\" class=\"data row7 col0\" >12</td>\n",
       "    </tr>\n",
       "    <tr>\n",
       "      <th id=\"T_b68a8_level0_row8\" class=\"row_heading level0 row8\" >27</th>\n",
       "      <td id=\"T_b68a8_row8_col0\" class=\"data row8 col0\" >15</td>\n",
       "    </tr>\n",
       "    <tr>\n",
       "      <th id=\"T_b68a8_level0_row9\" class=\"row_heading level0 row9\" >28</th>\n",
       "      <td id=\"T_b68a8_row9_col0\" class=\"data row9 col0\" >6</td>\n",
       "    </tr>\n",
       "    <tr>\n",
       "      <th id=\"T_b68a8_level0_row10\" class=\"row_heading level0 row10\" >29</th>\n",
       "      <td id=\"T_b68a8_row10_col0\" class=\"data row10 col0\" >14</td>\n",
       "    </tr>\n",
       "    <tr>\n",
       "      <th id=\"T_b68a8_level0_row11\" class=\"row_heading level0 row11\" >30</th>\n",
       "      <td id=\"T_b68a8_row11_col0\" class=\"data row11 col0\" >13</td>\n",
       "    </tr>\n",
       "    <tr>\n",
       "      <th id=\"T_b68a8_level0_row12\" class=\"row_heading level0 row12\" >31</th>\n",
       "      <td id=\"T_b68a8_row12_col0\" class=\"data row12 col0\" >16</td>\n",
       "    </tr>\n",
       "    <tr>\n",
       "      <th id=\"T_b68a8_level0_row13\" class=\"row_heading level0 row13\" >32</th>\n",
       "      <td id=\"T_b68a8_row13_col0\" class=\"data row13 col0\" >17</td>\n",
       "    </tr>\n",
       "    <tr>\n",
       "      <th id=\"T_b68a8_level0_row14\" class=\"row_heading level0 row14\" >33</th>\n",
       "      <td id=\"T_b68a8_row14_col0\" class=\"data row14 col0\" >20</td>\n",
       "    </tr>\n",
       "    <tr>\n",
       "      <th id=\"T_b68a8_level0_row15\" class=\"row_heading level0 row15\" >34</th>\n",
       "      <td id=\"T_b68a8_row15_col0\" class=\"data row15 col0\" >33</td>\n",
       "    </tr>\n",
       "    <tr>\n",
       "      <th id=\"T_b68a8_level0_row16\" class=\"row_heading level0 row16\" >35</th>\n",
       "      <td id=\"T_b68a8_row16_col0\" class=\"data row16 col0\" >36</td>\n",
       "    </tr>\n",
       "    <tr>\n",
       "      <th id=\"T_b68a8_level0_row17\" class=\"row_heading level0 row17\" >36</th>\n",
       "      <td id=\"T_b68a8_row17_col0\" class=\"data row17 col0\" >21</td>\n",
       "    </tr>\n",
       "    <tr>\n",
       "      <th id=\"T_b68a8_level0_row18\" class=\"row_heading level0 row18\" >37</th>\n",
       "      <td id=\"T_b68a8_row18_col0\" class=\"data row18 col0\" >42</td>\n",
       "    </tr>\n",
       "    <tr>\n",
       "      <th id=\"T_b68a8_level0_row19\" class=\"row_heading level0 row19\" >38</th>\n",
       "      <td id=\"T_b68a8_row19_col0\" class=\"data row19 col0\" >36</td>\n",
       "    </tr>\n",
       "    <tr>\n",
       "      <th id=\"T_b68a8_level0_row20\" class=\"row_heading level0 row20\" >39</th>\n",
       "      <td id=\"T_b68a8_row20_col0\" class=\"data row20 col0\" >52</td>\n",
       "    </tr>\n",
       "    <tr>\n",
       "      <th id=\"T_b68a8_level0_row21\" class=\"row_heading level0 row21\" >40</th>\n",
       "      <td id=\"T_b68a8_row21_col0\" class=\"data row21 col0\" >60</td>\n",
       "    </tr>\n",
       "    <tr>\n",
       "      <th id=\"T_b68a8_level0_row22\" class=\"row_heading level0 row22\" >41</th>\n",
       "      <td id=\"T_b68a8_row22_col0\" class=\"data row22 col0\" >57</td>\n",
       "    </tr>\n",
       "    <tr>\n",
       "      <th id=\"T_b68a8_level0_row23\" class=\"row_heading level0 row23\" >42</th>\n",
       "      <td id=\"T_b68a8_row23_col0\" class=\"data row23 col0\" >58</td>\n",
       "    </tr>\n",
       "    <tr>\n",
       "      <th id=\"T_b68a8_level0_row24\" class=\"row_heading level0 row24\" >43</th>\n",
       "      <td id=\"T_b68a8_row24_col0\" class=\"data row24 col0\" >78</td>\n",
       "    </tr>\n",
       "    <tr>\n",
       "      <th id=\"T_b68a8_level0_row25\" class=\"row_heading level0 row25\" >44</th>\n",
       "      <td id=\"T_b68a8_row25_col0\" class=\"data row25 col0\" >77</td>\n",
       "    </tr>\n",
       "    <tr>\n",
       "      <th id=\"T_b68a8_level0_row26\" class=\"row_heading level0 row26\" >45</th>\n",
       "      <td id=\"T_b68a8_row26_col0\" class=\"data row26 col0\" >96</td>\n",
       "    </tr>\n",
       "    <tr>\n",
       "      <th id=\"T_b68a8_level0_row27\" class=\"row_heading level0 row27\" >46</th>\n",
       "      <td id=\"T_b68a8_row27_col0\" class=\"data row27 col0\" >106</td>\n",
       "    </tr>\n",
       "    <tr>\n",
       "      <th id=\"T_b68a8_level0_row28\" class=\"row_heading level0 row28\" >47</th>\n",
       "      <td id=\"T_b68a8_row28_col0\" class=\"data row28 col0\" >119</td>\n",
       "    </tr>\n",
       "    <tr>\n",
       "      <th id=\"T_b68a8_level0_row29\" class=\"row_heading level0 row29\" >48</th>\n",
       "      <td id=\"T_b68a8_row29_col0\" class=\"data row29 col0\" >111</td>\n",
       "    </tr>\n",
       "    <tr>\n",
       "      <th id=\"T_b68a8_level0_row30\" class=\"row_heading level0 row30\" >49</th>\n",
       "      <td id=\"T_b68a8_row30_col0\" class=\"data row30 col0\" >171</td>\n",
       "    </tr>\n",
       "    <tr>\n",
       "      <th id=\"T_b68a8_level0_row31\" class=\"row_heading level0 row31\" >50</th>\n",
       "      <td id=\"T_b68a8_row31_col0\" class=\"data row31 col0\" >130</td>\n",
       "    </tr>\n",
       "    <tr>\n",
       "      <th id=\"T_b68a8_level0_row32\" class=\"row_heading level0 row32\" >51</th>\n",
       "      <td id=\"T_b68a8_row32_col0\" class=\"data row32 col0\" >159</td>\n",
       "    </tr>\n",
       "    <tr>\n",
       "      <th id=\"T_b68a8_level0_row33\" class=\"row_heading level0 row33\" >52</th>\n",
       "      <td id=\"T_b68a8_row33_col0\" class=\"data row33 col0\" >168</td>\n",
       "    </tr>\n",
       "    <tr>\n",
       "      <th id=\"T_b68a8_level0_row34\" class=\"row_heading level0 row34\" >53</th>\n",
       "      <td id=\"T_b68a8_row34_col0\" class=\"data row34 col0\" >189</td>\n",
       "    </tr>\n",
       "    <tr>\n",
       "      <th id=\"T_b68a8_level0_row35\" class=\"row_heading level0 row35\" >54</th>\n",
       "      <td id=\"T_b68a8_row35_col0\" class=\"data row35 col0\" >186</td>\n",
       "    </tr>\n",
       "    <tr>\n",
       "      <th id=\"T_b68a8_level0_row36\" class=\"row_heading level0 row36\" >55</th>\n",
       "      <td id=\"T_b68a8_row36_col0\" class=\"data row36 col0\" >186</td>\n",
       "    </tr>\n",
       "    <tr>\n",
       "      <th id=\"T_b68a8_level0_row37\" class=\"row_heading level0 row37\" >56</th>\n",
       "      <td id=\"T_b68a8_row37_col0\" class=\"data row37 col0\" >215</td>\n",
       "    </tr>\n",
       "    <tr>\n",
       "      <th id=\"T_b68a8_level0_row38\" class=\"row_heading level0 row38\" >57</th>\n",
       "      <td id=\"T_b68a8_row38_col0\" class=\"data row38 col0\" >235</td>\n",
       "    </tr>\n",
       "    <tr>\n",
       "      <th id=\"T_b68a8_level0_row39\" class=\"row_heading level0 row39\" >58</th>\n",
       "      <td id=\"T_b68a8_row39_col0\" class=\"data row39 col0\" >237</td>\n",
       "    </tr>\n",
       "    <tr>\n",
       "      <th id=\"T_b68a8_level0_row40\" class=\"row_heading level0 row40\" >59</th>\n",
       "      <td id=\"T_b68a8_row40_col0\" class=\"data row40 col0\" >212</td>\n",
       "    </tr>\n",
       "    <tr>\n",
       "      <th id=\"T_b68a8_level0_row41\" class=\"row_heading level0 row41\" >60</th>\n",
       "      <td id=\"T_b68a8_row41_col0\" class=\"data row41 col0\" >216</td>\n",
       "    </tr>\n",
       "    <tr>\n",
       "      <th id=\"T_b68a8_level0_row42\" class=\"row_heading level0 row42\" >61</th>\n",
       "      <td id=\"T_b68a8_row42_col0\" class=\"data row42 col0\" >251</td>\n",
       "    </tr>\n",
       "    <tr>\n",
       "      <th id=\"T_b68a8_level0_row43\" class=\"row_heading level0 row43\" >62</th>\n",
       "      <td id=\"T_b68a8_row43_col0\" class=\"data row43 col0\" >232</td>\n",
       "    </tr>\n",
       "    <tr>\n",
       "      <th id=\"T_b68a8_level0_row44\" class=\"row_heading level0 row44\" >63</th>\n",
       "      <td id=\"T_b68a8_row44_col0\" class=\"data row44 col0\" >238</td>\n",
       "    </tr>\n",
       "    <tr>\n",
       "      <th id=\"T_b68a8_level0_row45\" class=\"row_heading level0 row45\" >64</th>\n",
       "      <td id=\"T_b68a8_row45_col0\" class=\"data row45 col0\" >249</td>\n",
       "    </tr>\n",
       "    <tr>\n",
       "      <th id=\"T_b68a8_level0_row46\" class=\"row_heading level0 row46\" >65</th>\n",
       "      <td id=\"T_b68a8_row46_col0\" class=\"data row46 col0\" >210</td>\n",
       "    </tr>\n",
       "    <tr>\n",
       "      <th id=\"T_b68a8_level0_row47\" class=\"row_heading level0 row47\" >66</th>\n",
       "      <td id=\"T_b68a8_row47_col0\" class=\"data row47 col0\" >225</td>\n",
       "    </tr>\n",
       "    <tr>\n",
       "      <th id=\"T_b68a8_level0_row48\" class=\"row_heading level0 row48\" >67</th>\n",
       "      <td id=\"T_b68a8_row48_col0\" class=\"data row48 col0\" >224</td>\n",
       "    </tr>\n",
       "    <tr>\n",
       "      <th id=\"T_b68a8_level0_row49\" class=\"row_heading level0 row49\" >68</th>\n",
       "      <td id=\"T_b68a8_row49_col0\" class=\"data row49 col0\" >208</td>\n",
       "    </tr>\n",
       "    <tr>\n",
       "      <th id=\"T_b68a8_level0_row50\" class=\"row_heading level0 row50\" >69</th>\n",
       "      <td id=\"T_b68a8_row50_col0\" class=\"data row50 col0\" >237</td>\n",
       "    </tr>\n",
       "    <tr>\n",
       "      <th id=\"T_b68a8_level0_row51\" class=\"row_heading level0 row51\" >70</th>\n",
       "      <td id=\"T_b68a8_row51_col0\" class=\"data row51 col0\" >238</td>\n",
       "    </tr>\n",
       "    <tr>\n",
       "      <th id=\"T_b68a8_level0_row52\" class=\"row_heading level0 row52\" >71</th>\n",
       "      <td id=\"T_b68a8_row52_col0\" class=\"data row52 col0\" >211</td>\n",
       "    </tr>\n",
       "    <tr>\n",
       "      <th id=\"T_b68a8_level0_row53\" class=\"row_heading level0 row53\" >72</th>\n",
       "      <td id=\"T_b68a8_row53_col0\" class=\"data row53 col0\" >196</td>\n",
       "    </tr>\n",
       "    <tr>\n",
       "      <th id=\"T_b68a8_level0_row54\" class=\"row_heading level0 row54\" >73</th>\n",
       "      <td id=\"T_b68a8_row54_col0\" class=\"data row54 col0\" >179</td>\n",
       "    </tr>\n",
       "    <tr>\n",
       "      <th id=\"T_b68a8_level0_row55\" class=\"row_heading level0 row55\" >74</th>\n",
       "      <td id=\"T_b68a8_row55_col0\" class=\"data row55 col0\" >189</td>\n",
       "    </tr>\n",
       "    <tr>\n",
       "      <th id=\"T_b68a8_level0_row56\" class=\"row_heading level0 row56\" >75</th>\n",
       "      <td id=\"T_b68a8_row56_col0\" class=\"data row56 col0\" >177</td>\n",
       "    </tr>\n",
       "    <tr>\n",
       "      <th id=\"T_b68a8_level0_row57\" class=\"row_heading level0 row57\" >76</th>\n",
       "      <td id=\"T_b68a8_row57_col0\" class=\"data row57 col0\" >175</td>\n",
       "    </tr>\n",
       "    <tr>\n",
       "      <th id=\"T_b68a8_level0_row58\" class=\"row_heading level0 row58\" >77</th>\n",
       "      <td id=\"T_b68a8_row58_col0\" class=\"data row58 col0\" >147</td>\n",
       "    </tr>\n",
       "    <tr>\n",
       "      <th id=\"T_b68a8_level0_row59\" class=\"row_heading level0 row59\" >78</th>\n",
       "      <td id=\"T_b68a8_row59_col0\" class=\"data row59 col0\" >157</td>\n",
       "    </tr>\n",
       "    <tr>\n",
       "      <th id=\"T_b68a8_level0_row60\" class=\"row_heading level0 row60\" >79</th>\n",
       "      <td id=\"T_b68a8_row60_col0\" class=\"data row60 col0\" >131</td>\n",
       "    </tr>\n",
       "    <tr>\n",
       "      <th id=\"T_b68a8_level0_row61\" class=\"row_heading level0 row61\" >80</th>\n",
       "      <td id=\"T_b68a8_row61_col0\" class=\"data row61 col0\" >156</td>\n",
       "    </tr>\n",
       "    <tr>\n",
       "      <th id=\"T_b68a8_level0_row62\" class=\"row_heading level0 row62\" >81</th>\n",
       "      <td id=\"T_b68a8_row62_col0\" class=\"data row62 col0\" >119</td>\n",
       "    </tr>\n",
       "    <tr>\n",
       "      <th id=\"T_b68a8_level0_row63\" class=\"row_heading level0 row63\" >82</th>\n",
       "      <td id=\"T_b68a8_row63_col0\" class=\"data row63 col0\" >103</td>\n",
       "    </tr>\n",
       "    <tr>\n",
       "      <th id=\"T_b68a8_level0_row64\" class=\"row_heading level0 row64\" >83</th>\n",
       "      <td id=\"T_b68a8_row64_col0\" class=\"data row64 col0\" >98</td>\n",
       "    </tr>\n",
       "    <tr>\n",
       "      <th id=\"T_b68a8_level0_row65\" class=\"row_heading level0 row65\" >84</th>\n",
       "      <td id=\"T_b68a8_row65_col0\" class=\"data row65 col0\" >87</td>\n",
       "    </tr>\n",
       "    <tr>\n",
       "      <th id=\"T_b68a8_level0_row66\" class=\"row_heading level0 row66\" >85</th>\n",
       "      <td id=\"T_b68a8_row66_col0\" class=\"data row66 col0\" >79</td>\n",
       "    </tr>\n",
       "    <tr>\n",
       "      <th id=\"T_b68a8_level0_row67\" class=\"row_heading level0 row67\" >86</th>\n",
       "      <td id=\"T_b68a8_row67_col0\" class=\"data row67 col0\" >69</td>\n",
       "    </tr>\n",
       "    <tr>\n",
       "      <th id=\"T_b68a8_level0_row68\" class=\"row_heading level0 row68\" >87</th>\n",
       "      <td id=\"T_b68a8_row68_col0\" class=\"data row68 col0\" >91</td>\n",
       "    </tr>\n",
       "    <tr>\n",
       "      <th id=\"T_b68a8_level0_row69\" class=\"row_heading level0 row69\" >88</th>\n",
       "      <td id=\"T_b68a8_row69_col0\" class=\"data row69 col0\" >47</td>\n",
       "    </tr>\n",
       "    <tr>\n",
       "      <th id=\"T_b68a8_level0_row70\" class=\"row_heading level0 row70\" >89</th>\n",
       "      <td id=\"T_b68a8_row70_col0\" class=\"data row70 col0\" >50</td>\n",
       "    </tr>\n",
       "    <tr>\n",
       "      <th id=\"T_b68a8_level0_row71\" class=\"row_heading level0 row71\" >90</th>\n",
       "      <td id=\"T_b68a8_row71_col0\" class=\"data row71 col0\" >51</td>\n",
       "    </tr>\n",
       "    <tr>\n",
       "      <th id=\"T_b68a8_level0_row72\" class=\"row_heading level0 row72\" >91</th>\n",
       "      <td id=\"T_b68a8_row72_col0\" class=\"data row72 col0\" >40</td>\n",
       "    </tr>\n",
       "    <tr>\n",
       "      <th id=\"T_b68a8_level0_row73\" class=\"row_heading level0 row73\" >92</th>\n",
       "      <td id=\"T_b68a8_row73_col0\" class=\"data row73 col0\" >34</td>\n",
       "    </tr>\n",
       "    <tr>\n",
       "      <th id=\"T_b68a8_level0_row74\" class=\"row_heading level0 row74\" >93</th>\n",
       "      <td id=\"T_b68a8_row74_col0\" class=\"data row74 col0\" >37</td>\n",
       "    </tr>\n",
       "    <tr>\n",
       "      <th id=\"T_b68a8_level0_row75\" class=\"row_heading level0 row75\" >94</th>\n",
       "      <td id=\"T_b68a8_row75_col0\" class=\"data row75 col0\" >21</td>\n",
       "    </tr>\n",
       "    <tr>\n",
       "      <th id=\"T_b68a8_level0_row76\" class=\"row_heading level0 row76\" >95</th>\n",
       "      <td id=\"T_b68a8_row76_col0\" class=\"data row76 col0\" >19</td>\n",
       "    </tr>\n",
       "    <tr>\n",
       "      <th id=\"T_b68a8_level0_row77\" class=\"row_heading level0 row77\" >96</th>\n",
       "      <td id=\"T_b68a8_row77_col0\" class=\"data row77 col0\" >22</td>\n",
       "    </tr>\n",
       "    <tr>\n",
       "      <th id=\"T_b68a8_level0_row78\" class=\"row_heading level0 row78\" >97</th>\n",
       "      <td id=\"T_b68a8_row78_col0\" class=\"data row78 col0\" >19</td>\n",
       "    </tr>\n",
       "    <tr>\n",
       "      <th id=\"T_b68a8_level0_row79\" class=\"row_heading level0 row79\" >98</th>\n",
       "      <td id=\"T_b68a8_row79_col0\" class=\"data row79 col0\" >15</td>\n",
       "    </tr>\n",
       "    <tr>\n",
       "      <th id=\"T_b68a8_level0_row80\" class=\"row_heading level0 row80\" >99</th>\n",
       "      <td id=\"T_b68a8_row80_col0\" class=\"data row80 col0\" >12</td>\n",
       "    </tr>\n",
       "    <tr>\n",
       "      <th id=\"T_b68a8_level0_row81\" class=\"row_heading level0 row81\" >100</th>\n",
       "      <td id=\"T_b68a8_row81_col0\" class=\"data row81 col0\" >11</td>\n",
       "    </tr>\n",
       "    <tr>\n",
       "      <th id=\"T_b68a8_level0_row82\" class=\"row_heading level0 row82\" >101</th>\n",
       "      <td id=\"T_b68a8_row82_col0\" class=\"data row82 col0\" >10</td>\n",
       "    </tr>\n",
       "    <tr>\n",
       "      <th id=\"T_b68a8_level0_row83\" class=\"row_heading level0 row83\" >102</th>\n",
       "      <td id=\"T_b68a8_row83_col0\" class=\"data row83 col0\" >8</td>\n",
       "    </tr>\n",
       "    <tr>\n",
       "      <th id=\"T_b68a8_level0_row84\" class=\"row_heading level0 row84\" >103</th>\n",
       "      <td id=\"T_b68a8_row84_col0\" class=\"data row84 col0\" >3</td>\n",
       "    </tr>\n",
       "    <tr>\n",
       "      <th id=\"T_b68a8_level0_row85\" class=\"row_heading level0 row85\" >104</th>\n",
       "      <td id=\"T_b68a8_row85_col0\" class=\"data row85 col0\" >6</td>\n",
       "    </tr>\n",
       "    <tr>\n",
       "      <th id=\"T_b68a8_level0_row86\" class=\"row_heading level0 row86\" >105</th>\n",
       "      <td id=\"T_b68a8_row86_col0\" class=\"data row86 col0\" >2</td>\n",
       "    </tr>\n",
       "    <tr>\n",
       "      <th id=\"T_b68a8_level0_row87\" class=\"row_heading level0 row87\" >106</th>\n",
       "      <td id=\"T_b68a8_row87_col0\" class=\"data row87 col0\" >1</td>\n",
       "    </tr>\n",
       "    <tr>\n",
       "      <th id=\"T_b68a8_level0_row88\" class=\"row_heading level0 row88\" >107</th>\n",
       "      <td id=\"T_b68a8_row88_col0\" class=\"data row88 col0\" >3</td>\n",
       "    </tr>\n",
       "    <tr>\n",
       "      <th id=\"T_b68a8_level0_row89\" class=\"row_heading level0 row89\" >108</th>\n",
       "      <td id=\"T_b68a8_row89_col0\" class=\"data row89 col0\" >2</td>\n",
       "    </tr>\n",
       "    <tr>\n",
       "      <th id=\"T_b68a8_level0_row90\" class=\"row_heading level0 row90\" >110</th>\n",
       "      <td id=\"T_b68a8_row90_col0\" class=\"data row90 col0\" >1</td>\n",
       "    </tr>\n",
       "    <tr>\n",
       "      <th id=\"T_b68a8_level0_row91\" class=\"row_heading level0 row91\" >115</th>\n",
       "      <td id=\"T_b68a8_row91_col0\" class=\"data row91 col0\" >2</td>\n",
       "    </tr>\n",
       "    <tr>\n",
       "      <th id=\"T_b68a8_level0_row92\" class=\"row_heading level0 row92\" >116</th>\n",
       "      <td id=\"T_b68a8_row92_col0\" class=\"data row92 col0\" >2</td>\n",
       "    </tr>\n",
       "    <tr>\n",
       "      <th id=\"T_b68a8_level0_row93\" class=\"row_heading level0 row93\" >120</th>\n",
       "      <td id=\"T_b68a8_row93_col0\" class=\"data row93 col0\" >1</td>\n",
       "    </tr>\n",
       "  </tbody>\n",
       "</table>\n"
      ],
      "text/plain": [
       "<pandas.io.formats.style.Styler at 0x1c8ea958a90>"
      ]
     },
     "execution_count": 21,
     "metadata": {},
     "output_type": "execute_result"
    }
   ],
   "source": [
    "df = df[df['age'] >= 0]\n",
    "sorted_smokers = df.groupby('age')['strsmoke'].count().to_frame()\n",
    "sorted_smokers.style.background_gradient(cmap = 'Reds')"
   ]
  },
  {
   "cell_type": "code",
   "execution_count": 22,
   "id": "2b221819-97b0-4b3a-b903-a172ef6520b2",
   "metadata": {},
   "outputs": [
    {
     "data": {
      "text/plain": [
       "<bound method DataFrame.info of                  id  age  gender copdhis   genmarkers airpolexp  lastw  curw  \\\n",
       "0      1.468154e+16   42    Male      No  Not Present    Medium     73    69   \n",
       "1      1.271684e+18   72    Male     Yes  Not Present      High     50    42   \n",
       "2      1.708068e+18   65    Male     Yes  Not Present       Low     65    75   \n",
       "3      3.555829e+17   67    Male      No  Not Present      High     69    58   \n",
       "4      1.684598e+18   54    Male     Yes  Not Present    Medium     46    40   \n",
       "...             ...  ...     ...     ...          ...       ...    ...   ...   \n",
       "10342  7.785505e+17   71    Male     Yes  Not Present      High    100    93   \n",
       "10343  6.202150e+17   47    Male     Yes      Present       Low     55    50   \n",
       "10344  1.157407e+18   59  Female     Yes  Not Present       Low     80    81   \n",
       "10345  1.488014e+18   34    Male      No  Not Present      High     65    57   \n",
       "10346  3.987035e+17   69    Male      No  Not Present      High     81    75   \n",
       "\n",
       "      strsmoke       stosmoke takbroncho   freqtired    domhand  lcancerocc  \n",
       "0         2015           2020         No  None / Low      Right           1  \n",
       "1         2006           2012        Yes      Medium      Right           1  \n",
       "2         1998  Still Smoking        Yes  None / Low      Right           0  \n",
       "3         2011           2014         No  None / Low      Right           1  \n",
       "4         1994           2017        Yes  None / Low      Right           0  \n",
       "...        ...            ...        ...         ...        ...         ...  \n",
       "10342     1958           2015        Yes        High      Right           0  \n",
       "10343     2009  Still Smoking        Yes      Medium      Right           0  \n",
       "10344     2008           2011        Yes      Medium  RightBoth           0  \n",
       "10345     2020  Still Smoking         No      Medium  RightBoth           1  \n",
       "10346     2014  Still Smoking         No      Medium      Right           1  \n",
       "\n",
       "[8518 rows x 14 columns]>"
      ]
     },
     "execution_count": 22,
     "metadata": {},
     "output_type": "execute_result"
    }
   ],
   "source": [
    "df.isnull().sum()\n",
    "df = df.dropna(how='any',axis=0)\n",
    "df.isnull().sum()\n",
    "df.info"
   ]
  },
  {
   "cell_type": "code",
   "execution_count": 23,
   "id": "0794721e-10e7-4e87-94e9-4e33be6edff2",
   "metadata": {},
   "outputs": [],
   "source": [
    "label = df.age.sort_values().unique()\n",
    "target = sorted_smokers.strsmoke"
   ]
  },
  {
   "cell_type": "code",
   "execution_count": 24,
   "id": "b4a0595b-d3e0-4db4-9ef7-64e7db65033d",
   "metadata": {},
   "outputs": [
    {
     "name": "stdout",
     "output_type": "stream",
     "text": [
      "[ 18  20  21  22  23  24  25  26  27  28  29  30  31  32  33  34  35  36\n",
      "  37  38  39  40  41  42  43  44  45  46  47  48  49  50  51  52  53  54\n",
      "  55  56  57  58  59  60  61  62  63  64  65  66  67  68  69  70  71  72\n",
      "  73  74  75  76  77  78  79  80  81  82  83  84  85  86  87  88  89  90\n",
      "  91  92  93  94  95  96  97  98  99 100 101 102 103 104 105 106 107 108\n",
      " 110 115 116 120]\n",
      "age\n",
      "18     4\n",
      "20     3\n",
      "21     2\n",
      "22     2\n",
      "23     3\n",
      "      ..\n",
      "108    2\n",
      "110    1\n",
      "115    2\n",
      "116    2\n",
      "120    1\n",
      "Name: strsmoke, Length: 94, dtype: int64\n"
     ]
    }
   ],
   "source": [
    "print(label)\n",
    "print(target)"
   ]
  },
  {
   "cell_type": "code",
   "execution_count": 25,
   "id": "8ea7fe02-1ba2-4e01-a8cc-1b48cc2f65cc",
   "metadata": {},
   "outputs": [],
   "source": [
    "X = df.drop(\"takbroncho\", axis = 1)\n",
    "y = df[\"takbroncho\"]"
   ]
  },
  {
   "cell_type": "code",
   "execution_count": 26,
   "id": "3325ae86-7e1b-4d7d-9d7a-01b98ee0c924",
   "metadata": {},
   "outputs": [
    {
     "data": {
      "text/html": [
       "<div>\n",
       "<style scoped>\n",
       "    .dataframe tbody tr th:only-of-type {\n",
       "        vertical-align: middle;\n",
       "    }\n",
       "\n",
       "    .dataframe tbody tr th {\n",
       "        vertical-align: top;\n",
       "    }\n",
       "\n",
       "    .dataframe thead th {\n",
       "        text-align: right;\n",
       "    }\n",
       "</style>\n",
       "<table border=\"1\" class=\"dataframe\">\n",
       "  <thead>\n",
       "    <tr style=\"text-align: right;\">\n",
       "      <th></th>\n",
       "      <th>id</th>\n",
       "      <th>age</th>\n",
       "      <th>gender</th>\n",
       "      <th>copdhis</th>\n",
       "      <th>genmarkers</th>\n",
       "      <th>airpolexp</th>\n",
       "      <th>lastw</th>\n",
       "      <th>curw</th>\n",
       "      <th>strsmoke</th>\n",
       "      <th>stosmoke</th>\n",
       "      <th>freqtired</th>\n",
       "      <th>domhand</th>\n",
       "      <th>lcancerocc</th>\n",
       "    </tr>\n",
       "  </thead>\n",
       "  <tbody>\n",
       "    <tr>\n",
       "      <th>0</th>\n",
       "      <td>1.468154e+16</td>\n",
       "      <td>42</td>\n",
       "      <td>Male</td>\n",
       "      <td>No</td>\n",
       "      <td>Not Present</td>\n",
       "      <td>Medium</td>\n",
       "      <td>73</td>\n",
       "      <td>69</td>\n",
       "      <td>2015</td>\n",
       "      <td>2020</td>\n",
       "      <td>None / Low</td>\n",
       "      <td>Right</td>\n",
       "      <td>1</td>\n",
       "    </tr>\n",
       "    <tr>\n",
       "      <th>1</th>\n",
       "      <td>1.271684e+18</td>\n",
       "      <td>72</td>\n",
       "      <td>Male</td>\n",
       "      <td>Yes</td>\n",
       "      <td>Not Present</td>\n",
       "      <td>High</td>\n",
       "      <td>50</td>\n",
       "      <td>42</td>\n",
       "      <td>2006</td>\n",
       "      <td>2012</td>\n",
       "      <td>Medium</td>\n",
       "      <td>Right</td>\n",
       "      <td>1</td>\n",
       "    </tr>\n",
       "    <tr>\n",
       "      <th>2</th>\n",
       "      <td>1.708068e+18</td>\n",
       "      <td>65</td>\n",
       "      <td>Male</td>\n",
       "      <td>Yes</td>\n",
       "      <td>Not Present</td>\n",
       "      <td>Low</td>\n",
       "      <td>65</td>\n",
       "      <td>75</td>\n",
       "      <td>1998</td>\n",
       "      <td>Still Smoking</td>\n",
       "      <td>None / Low</td>\n",
       "      <td>Right</td>\n",
       "      <td>0</td>\n",
       "    </tr>\n",
       "    <tr>\n",
       "      <th>3</th>\n",
       "      <td>3.555829e+17</td>\n",
       "      <td>67</td>\n",
       "      <td>Male</td>\n",
       "      <td>No</td>\n",
       "      <td>Not Present</td>\n",
       "      <td>High</td>\n",
       "      <td>69</td>\n",
       "      <td>58</td>\n",
       "      <td>2011</td>\n",
       "      <td>2014</td>\n",
       "      <td>None / Low</td>\n",
       "      <td>Right</td>\n",
       "      <td>1</td>\n",
       "    </tr>\n",
       "    <tr>\n",
       "      <th>4</th>\n",
       "      <td>1.684598e+18</td>\n",
       "      <td>54</td>\n",
       "      <td>Male</td>\n",
       "      <td>Yes</td>\n",
       "      <td>Not Present</td>\n",
       "      <td>Medium</td>\n",
       "      <td>46</td>\n",
       "      <td>40</td>\n",
       "      <td>1994</td>\n",
       "      <td>2017</td>\n",
       "      <td>None / Low</td>\n",
       "      <td>Right</td>\n",
       "      <td>0</td>\n",
       "    </tr>\n",
       "    <tr>\n",
       "      <th>...</th>\n",
       "      <td>...</td>\n",
       "      <td>...</td>\n",
       "      <td>...</td>\n",
       "      <td>...</td>\n",
       "      <td>...</td>\n",
       "      <td>...</td>\n",
       "      <td>...</td>\n",
       "      <td>...</td>\n",
       "      <td>...</td>\n",
       "      <td>...</td>\n",
       "      <td>...</td>\n",
       "      <td>...</td>\n",
       "      <td>...</td>\n",
       "    </tr>\n",
       "    <tr>\n",
       "      <th>10342</th>\n",
       "      <td>7.785505e+17</td>\n",
       "      <td>71</td>\n",
       "      <td>Male</td>\n",
       "      <td>Yes</td>\n",
       "      <td>Not Present</td>\n",
       "      <td>High</td>\n",
       "      <td>100</td>\n",
       "      <td>93</td>\n",
       "      <td>1958</td>\n",
       "      <td>2015</td>\n",
       "      <td>High</td>\n",
       "      <td>Right</td>\n",
       "      <td>0</td>\n",
       "    </tr>\n",
       "    <tr>\n",
       "      <th>10343</th>\n",
       "      <td>6.202150e+17</td>\n",
       "      <td>47</td>\n",
       "      <td>Male</td>\n",
       "      <td>Yes</td>\n",
       "      <td>Present</td>\n",
       "      <td>Low</td>\n",
       "      <td>55</td>\n",
       "      <td>50</td>\n",
       "      <td>2009</td>\n",
       "      <td>Still Smoking</td>\n",
       "      <td>Medium</td>\n",
       "      <td>Right</td>\n",
       "      <td>0</td>\n",
       "    </tr>\n",
       "    <tr>\n",
       "      <th>10344</th>\n",
       "      <td>1.157407e+18</td>\n",
       "      <td>59</td>\n",
       "      <td>Female</td>\n",
       "      <td>Yes</td>\n",
       "      <td>Not Present</td>\n",
       "      <td>Low</td>\n",
       "      <td>80</td>\n",
       "      <td>81</td>\n",
       "      <td>2008</td>\n",
       "      <td>2011</td>\n",
       "      <td>Medium</td>\n",
       "      <td>RightBoth</td>\n",
       "      <td>0</td>\n",
       "    </tr>\n",
       "    <tr>\n",
       "      <th>10345</th>\n",
       "      <td>1.488014e+18</td>\n",
       "      <td>34</td>\n",
       "      <td>Male</td>\n",
       "      <td>No</td>\n",
       "      <td>Not Present</td>\n",
       "      <td>High</td>\n",
       "      <td>65</td>\n",
       "      <td>57</td>\n",
       "      <td>2020</td>\n",
       "      <td>Still Smoking</td>\n",
       "      <td>Medium</td>\n",
       "      <td>RightBoth</td>\n",
       "      <td>1</td>\n",
       "    </tr>\n",
       "    <tr>\n",
       "      <th>10346</th>\n",
       "      <td>3.987035e+17</td>\n",
       "      <td>69</td>\n",
       "      <td>Male</td>\n",
       "      <td>No</td>\n",
       "      <td>Not Present</td>\n",
       "      <td>High</td>\n",
       "      <td>81</td>\n",
       "      <td>75</td>\n",
       "      <td>2014</td>\n",
       "      <td>Still Smoking</td>\n",
       "      <td>Medium</td>\n",
       "      <td>Right</td>\n",
       "      <td>1</td>\n",
       "    </tr>\n",
       "  </tbody>\n",
       "</table>\n",
       "<p>8518 rows × 13 columns</p>\n",
       "</div>"
      ],
      "text/plain": [
       "                 id  age  gender copdhis   genmarkers airpolexp  lastw  curw  \\\n",
       "0      1.468154e+16   42    Male      No  Not Present    Medium     73    69   \n",
       "1      1.271684e+18   72    Male     Yes  Not Present      High     50    42   \n",
       "2      1.708068e+18   65    Male     Yes  Not Present       Low     65    75   \n",
       "3      3.555829e+17   67    Male      No  Not Present      High     69    58   \n",
       "4      1.684598e+18   54    Male     Yes  Not Present    Medium     46    40   \n",
       "...             ...  ...     ...     ...          ...       ...    ...   ...   \n",
       "10342  7.785505e+17   71    Male     Yes  Not Present      High    100    93   \n",
       "10343  6.202150e+17   47    Male     Yes      Present       Low     55    50   \n",
       "10344  1.157407e+18   59  Female     Yes  Not Present       Low     80    81   \n",
       "10345  1.488014e+18   34    Male      No  Not Present      High     65    57   \n",
       "10346  3.987035e+17   69    Male      No  Not Present      High     81    75   \n",
       "\n",
       "      strsmoke       stosmoke   freqtired    domhand  lcancerocc  \n",
       "0         2015           2020  None / Low      Right           1  \n",
       "1         2006           2012      Medium      Right           1  \n",
       "2         1998  Still Smoking  None / Low      Right           0  \n",
       "3         2011           2014  None / Low      Right           1  \n",
       "4         1994           2017  None / Low      Right           0  \n",
       "...        ...            ...         ...        ...         ...  \n",
       "10342     1958           2015        High      Right           0  \n",
       "10343     2009  Still Smoking      Medium      Right           0  \n",
       "10344     2008           2011      Medium  RightBoth           0  \n",
       "10345     2020  Still Smoking      Medium  RightBoth           1  \n",
       "10346     2014  Still Smoking      Medium      Right           1  \n",
       "\n",
       "[8518 rows x 13 columns]"
      ]
     },
     "execution_count": 26,
     "metadata": {},
     "output_type": "execute_result"
    }
   ],
   "source": [
    "X"
   ]
  },
  {
   "cell_type": "code",
   "execution_count": 27,
   "id": "227e14bc-e972-4f66-bd2b-7a6f210379aa",
   "metadata": {},
   "outputs": [
    {
     "data": {
      "text/plain": [
       "0         No\n",
       "1        Yes\n",
       "2        Yes\n",
       "3         No\n",
       "4        Yes\n",
       "        ... \n",
       "10342    Yes\n",
       "10343    Yes\n",
       "10344    Yes\n",
       "10345     No\n",
       "10346     No\n",
       "Name: takbroncho, Length: 8518, dtype: object"
      ]
     },
     "execution_count": 27,
     "metadata": {},
     "output_type": "execute_result"
    }
   ],
   "source": [
    "y"
   ]
  },
  {
   "cell_type": "code",
   "execution_count": 30,
   "id": "7250c689-d7b4-43de-af47-7a96011e2e38",
   "metadata": {},
   "outputs": [],
   "source": [
    "x_train, x_test, y_train, y_test = train_test_split(label, target,random_state=130)"
   ]
  },
  {
   "cell_type": "code",
   "execution_count": 31,
   "id": "78a13c16-71d3-4ba1-aa75-6c74057492d5",
   "metadata": {},
   "outputs": [
    {
     "ename": "NameError",
     "evalue": "name 'X_train' is not defined",
     "output_type": "error",
     "traceback": [
      "\u001b[1;31m---------------------------------------------------------------------------\u001b[0m",
      "\u001b[1;31mNameError\u001b[0m                                 Traceback (most recent call last)",
      "Cell \u001b[1;32mIn[31], line 4\u001b[0m\n\u001b[0;32m      1\u001b[0m classifier_model \u001b[38;5;241m=\u001b[39m RandomForestClassifier(random_state\u001b[38;5;241m=\u001b[39m\u001b[38;5;241m42\u001b[39m)\n\u001b[0;32m      3\u001b[0m \u001b[38;5;66;03m# Fit the model on training data\u001b[39;00m\n\u001b[1;32m----> 4\u001b[0m classifier_model\u001b[38;5;241m.\u001b[39mfit(X_train)\n\u001b[0;32m      6\u001b[0m \u001b[38;5;66;03m# Make predictions on test data\u001b[39;00m\n\u001b[0;32m      7\u001b[0m y_pred_class \u001b[38;5;241m=\u001b[39m classifier_model\u001b[38;5;241m.\u001b[39mpredict(X_train)\n",
      "\u001b[1;31mNameError\u001b[0m: name 'X_train' is not defined"
     ]
    }
   ],
   "source": [
    "classifier_model = RandomForestClassifier(random_state=42)\n",
    "\n",
    "# Fit the model on training data\n",
    "classifier_model.fit(X_train)\n",
    "\n",
    "# Make predictions on test data\n",
    "y_pred_class = classifier_model.predict(X_train)\n",
    "\n",
    "# Evaluate the classifier model\n",
    "accuracy = accuracy_score(X_train)\n",
    "# classification_rep = classification_report(y_test, y_pred_class)\n",
    "\n",
    "print(f\"Accuracy: {accuracy}\")\n",
    "print(\"Classification Report:\\n\", classification_rep)"
   ]
  },
  {
   "cell_type": "code",
   "execution_count": 367,
   "id": "a563ec6f-dbf0-4d7e-a484-113bf928d63c",
   "metadata": {},
   "outputs": [],
   "source": [
    "import plotly.graph_objects as go"
   ]
  },
  {
   "cell_type": "code",
   "execution_count": 369,
   "id": "58a1d04b-6310-49c3-b4ce-16ee77d5dab3",
   "metadata": {},
   "outputs": [
    {
     "data": {
      "application/vnd.plotly.v1+json": {
       "config": {
        "plotlyServerURL": "https://plot.ly"
       },
       "data": [
        {
         "type": "bar",
         "x": [
          18,
          20,
          21,
          22,
          23,
          24,
          25,
          26,
          27,
          28,
          29,
          30,
          31,
          32,
          33,
          34,
          35,
          36,
          37,
          38,
          39,
          40,
          41,
          42,
          43,
          44,
          45,
          46,
          47,
          48,
          49,
          50,
          51,
          52,
          53,
          54,
          55,
          56,
          57,
          58,
          59,
          60,
          61,
          62,
          63,
          64,
          65,
          66,
          67,
          68,
          69,
          70,
          71,
          72,
          73,
          74,
          75,
          76,
          77,
          78,
          79,
          80,
          81,
          82,
          83,
          84,
          85,
          86,
          87,
          88,
          89,
          90,
          91,
          92,
          93,
          94,
          95,
          96,
          97,
          98,
          99,
          100,
          101,
          102,
          103,
          104,
          105,
          106,
          107,
          108,
          110,
          115,
          116,
          120
         ],
         "y": [
          4,
          3,
          2,
          2,
          3,
          6,
          6,
          12,
          15,
          6,
          14,
          13,
          16,
          17,
          20,
          33,
          36,
          21,
          42,
          36,
          52,
          60,
          57,
          58,
          78,
          77,
          96,
          106,
          119,
          111,
          171,
          130,
          159,
          168,
          189,
          186,
          186,
          215,
          235,
          237,
          212,
          216,
          251,
          232,
          238,
          249,
          210,
          225,
          224,
          208,
          237,
          238,
          211,
          196,
          179,
          189,
          177,
          175,
          147,
          157,
          131,
          156,
          119,
          103,
          98,
          87,
          79,
          69,
          91,
          47,
          50,
          51,
          40,
          34,
          37,
          21,
          19,
          22,
          19,
          15,
          12,
          11,
          10,
          8,
          3,
          6,
          2,
          1,
          3,
          2,
          1,
          2,
          2,
          1
         ]
        }
       ],
       "layout": {
        "autosize": true,
        "template": {
         "data": {
          "bar": [
           {
            "error_x": {
             "color": "#2a3f5f"
            },
            "error_y": {
             "color": "#2a3f5f"
            },
            "marker": {
             "line": {
              "color": "#E5ECF6",
              "width": 0.5
             },
             "pattern": {
              "fillmode": "overlay",
              "size": 10,
              "solidity": 0.2
             }
            },
            "type": "bar"
           }
          ],
          "barpolar": [
           {
            "marker": {
             "line": {
              "color": "#E5ECF6",
              "width": 0.5
             },
             "pattern": {
              "fillmode": "overlay",
              "size": 10,
              "solidity": 0.2
             }
            },
            "type": "barpolar"
           }
          ],
          "carpet": [
           {
            "aaxis": {
             "endlinecolor": "#2a3f5f",
             "gridcolor": "white",
             "linecolor": "white",
             "minorgridcolor": "white",
             "startlinecolor": "#2a3f5f"
            },
            "baxis": {
             "endlinecolor": "#2a3f5f",
             "gridcolor": "white",
             "linecolor": "white",
             "minorgridcolor": "white",
             "startlinecolor": "#2a3f5f"
            },
            "type": "carpet"
           }
          ],
          "choropleth": [
           {
            "colorbar": {
             "outlinewidth": 0,
             "ticks": ""
            },
            "type": "choropleth"
           }
          ],
          "contour": [
           {
            "colorbar": {
             "outlinewidth": 0,
             "ticks": ""
            },
            "colorscale": [
             [
              0,
              "#0d0887"
             ],
             [
              0.1111111111111111,
              "#46039f"
             ],
             [
              0.2222222222222222,
              "#7201a8"
             ],
             [
              0.3333333333333333,
              "#9c179e"
             ],
             [
              0.4444444444444444,
              "#bd3786"
             ],
             [
              0.5555555555555556,
              "#d8576b"
             ],
             [
              0.6666666666666666,
              "#ed7953"
             ],
             [
              0.7777777777777778,
              "#fb9f3a"
             ],
             [
              0.8888888888888888,
              "#fdca26"
             ],
             [
              1,
              "#f0f921"
             ]
            ],
            "type": "contour"
           }
          ],
          "contourcarpet": [
           {
            "colorbar": {
             "outlinewidth": 0,
             "ticks": ""
            },
            "type": "contourcarpet"
           }
          ],
          "heatmap": [
           {
            "colorbar": {
             "outlinewidth": 0,
             "ticks": ""
            },
            "colorscale": [
             [
              0,
              "#0d0887"
             ],
             [
              0.1111111111111111,
              "#46039f"
             ],
             [
              0.2222222222222222,
              "#7201a8"
             ],
             [
              0.3333333333333333,
              "#9c179e"
             ],
             [
              0.4444444444444444,
              "#bd3786"
             ],
             [
              0.5555555555555556,
              "#d8576b"
             ],
             [
              0.6666666666666666,
              "#ed7953"
             ],
             [
              0.7777777777777778,
              "#fb9f3a"
             ],
             [
              0.8888888888888888,
              "#fdca26"
             ],
             [
              1,
              "#f0f921"
             ]
            ],
            "type": "heatmap"
           }
          ],
          "heatmapgl": [
           {
            "colorbar": {
             "outlinewidth": 0,
             "ticks": ""
            },
            "colorscale": [
             [
              0,
              "#0d0887"
             ],
             [
              0.1111111111111111,
              "#46039f"
             ],
             [
              0.2222222222222222,
              "#7201a8"
             ],
             [
              0.3333333333333333,
              "#9c179e"
             ],
             [
              0.4444444444444444,
              "#bd3786"
             ],
             [
              0.5555555555555556,
              "#d8576b"
             ],
             [
              0.6666666666666666,
              "#ed7953"
             ],
             [
              0.7777777777777778,
              "#fb9f3a"
             ],
             [
              0.8888888888888888,
              "#fdca26"
             ],
             [
              1,
              "#f0f921"
             ]
            ],
            "type": "heatmapgl"
           }
          ],
          "histogram": [
           {
            "marker": {
             "pattern": {
              "fillmode": "overlay",
              "size": 10,
              "solidity": 0.2
             }
            },
            "type": "histogram"
           }
          ],
          "histogram2d": [
           {
            "colorbar": {
             "outlinewidth": 0,
             "ticks": ""
            },
            "colorscale": [
             [
              0,
              "#0d0887"
             ],
             [
              0.1111111111111111,
              "#46039f"
             ],
             [
              0.2222222222222222,
              "#7201a8"
             ],
             [
              0.3333333333333333,
              "#9c179e"
             ],
             [
              0.4444444444444444,
              "#bd3786"
             ],
             [
              0.5555555555555556,
              "#d8576b"
             ],
             [
              0.6666666666666666,
              "#ed7953"
             ],
             [
              0.7777777777777778,
              "#fb9f3a"
             ],
             [
              0.8888888888888888,
              "#fdca26"
             ],
             [
              1,
              "#f0f921"
             ]
            ],
            "type": "histogram2d"
           }
          ],
          "histogram2dcontour": [
           {
            "colorbar": {
             "outlinewidth": 0,
             "ticks": ""
            },
            "colorscale": [
             [
              0,
              "#0d0887"
             ],
             [
              0.1111111111111111,
              "#46039f"
             ],
             [
              0.2222222222222222,
              "#7201a8"
             ],
             [
              0.3333333333333333,
              "#9c179e"
             ],
             [
              0.4444444444444444,
              "#bd3786"
             ],
             [
              0.5555555555555556,
              "#d8576b"
             ],
             [
              0.6666666666666666,
              "#ed7953"
             ],
             [
              0.7777777777777778,
              "#fb9f3a"
             ],
             [
              0.8888888888888888,
              "#fdca26"
             ],
             [
              1,
              "#f0f921"
             ]
            ],
            "type": "histogram2dcontour"
           }
          ],
          "mesh3d": [
           {
            "colorbar": {
             "outlinewidth": 0,
             "ticks": ""
            },
            "type": "mesh3d"
           }
          ],
          "parcoords": [
           {
            "line": {
             "colorbar": {
              "outlinewidth": 0,
              "ticks": ""
             }
            },
            "type": "parcoords"
           }
          ],
          "pie": [
           {
            "automargin": true,
            "type": "pie"
           }
          ],
          "scatter": [
           {
            "fillpattern": {
             "fillmode": "overlay",
             "size": 10,
             "solidity": 0.2
            },
            "type": "scatter"
           }
          ],
          "scatter3d": [
           {
            "line": {
             "colorbar": {
              "outlinewidth": 0,
              "ticks": ""
             }
            },
            "marker": {
             "colorbar": {
              "outlinewidth": 0,
              "ticks": ""
             }
            },
            "type": "scatter3d"
           }
          ],
          "scattercarpet": [
           {
            "marker": {
             "colorbar": {
              "outlinewidth": 0,
              "ticks": ""
             }
            },
            "type": "scattercarpet"
           }
          ],
          "scattergeo": [
           {
            "marker": {
             "colorbar": {
              "outlinewidth": 0,
              "ticks": ""
             }
            },
            "type": "scattergeo"
           }
          ],
          "scattergl": [
           {
            "marker": {
             "colorbar": {
              "outlinewidth": 0,
              "ticks": ""
             }
            },
            "type": "scattergl"
           }
          ],
          "scattermapbox": [
           {
            "marker": {
             "colorbar": {
              "outlinewidth": 0,
              "ticks": ""
             }
            },
            "type": "scattermapbox"
           }
          ],
          "scatterpolar": [
           {
            "marker": {
             "colorbar": {
              "outlinewidth": 0,
              "ticks": ""
             }
            },
            "type": "scatterpolar"
           }
          ],
          "scatterpolargl": [
           {
            "marker": {
             "colorbar": {
              "outlinewidth": 0,
              "ticks": ""
             }
            },
            "type": "scatterpolargl"
           }
          ],
          "scatterternary": [
           {
            "marker": {
             "colorbar": {
              "outlinewidth": 0,
              "ticks": ""
             }
            },
            "type": "scatterternary"
           }
          ],
          "surface": [
           {
            "colorbar": {
             "outlinewidth": 0,
             "ticks": ""
            },
            "colorscale": [
             [
              0,
              "#0d0887"
             ],
             [
              0.1111111111111111,
              "#46039f"
             ],
             [
              0.2222222222222222,
              "#7201a8"
             ],
             [
              0.3333333333333333,
              "#9c179e"
             ],
             [
              0.4444444444444444,
              "#bd3786"
             ],
             [
              0.5555555555555556,
              "#d8576b"
             ],
             [
              0.6666666666666666,
              "#ed7953"
             ],
             [
              0.7777777777777778,
              "#fb9f3a"
             ],
             [
              0.8888888888888888,
              "#fdca26"
             ],
             [
              1,
              "#f0f921"
             ]
            ],
            "type": "surface"
           }
          ],
          "table": [
           {
            "cells": {
             "fill": {
              "color": "#EBF0F8"
             },
             "line": {
              "color": "white"
             }
            },
            "header": {
             "fill": {
              "color": "#C8D4E3"
             },
             "line": {
              "color": "white"
             }
            },
            "type": "table"
           }
          ]
         },
         "layout": {
          "annotationdefaults": {
           "arrowcolor": "#2a3f5f",
           "arrowhead": 0,
           "arrowwidth": 1
          },
          "autotypenumbers": "strict",
          "coloraxis": {
           "colorbar": {
            "outlinewidth": 0,
            "ticks": ""
           }
          },
          "colorscale": {
           "diverging": [
            [
             0,
             "#8e0152"
            ],
            [
             0.1,
             "#c51b7d"
            ],
            [
             0.2,
             "#de77ae"
            ],
            [
             0.3,
             "#f1b6da"
            ],
            [
             0.4,
             "#fde0ef"
            ],
            [
             0.5,
             "#f7f7f7"
            ],
            [
             0.6,
             "#e6f5d0"
            ],
            [
             0.7,
             "#b8e186"
            ],
            [
             0.8,
             "#7fbc41"
            ],
            [
             0.9,
             "#4d9221"
            ],
            [
             1,
             "#276419"
            ]
           ],
           "sequential": [
            [
             0,
             "#0d0887"
            ],
            [
             0.1111111111111111,
             "#46039f"
            ],
            [
             0.2222222222222222,
             "#7201a8"
            ],
            [
             0.3333333333333333,
             "#9c179e"
            ],
            [
             0.4444444444444444,
             "#bd3786"
            ],
            [
             0.5555555555555556,
             "#d8576b"
            ],
            [
             0.6666666666666666,
             "#ed7953"
            ],
            [
             0.7777777777777778,
             "#fb9f3a"
            ],
            [
             0.8888888888888888,
             "#fdca26"
            ],
            [
             1,
             "#f0f921"
            ]
           ],
           "sequentialminus": [
            [
             0,
             "#0d0887"
            ],
            [
             0.1111111111111111,
             "#46039f"
            ],
            [
             0.2222222222222222,
             "#7201a8"
            ],
            [
             0.3333333333333333,
             "#9c179e"
            ],
            [
             0.4444444444444444,
             "#bd3786"
            ],
            [
             0.5555555555555556,
             "#d8576b"
            ],
            [
             0.6666666666666666,
             "#ed7953"
            ],
            [
             0.7777777777777778,
             "#fb9f3a"
            ],
            [
             0.8888888888888888,
             "#fdca26"
            ],
            [
             1,
             "#f0f921"
            ]
           ]
          },
          "colorway": [
           "#636efa",
           "#EF553B",
           "#00cc96",
           "#ab63fa",
           "#FFA15A",
           "#19d3f3",
           "#FF6692",
           "#B6E880",
           "#FF97FF",
           "#FECB52"
          ],
          "font": {
           "color": "#2a3f5f"
          },
          "geo": {
           "bgcolor": "white",
           "lakecolor": "white",
           "landcolor": "#E5ECF6",
           "showlakes": true,
           "showland": true,
           "subunitcolor": "white"
          },
          "hoverlabel": {
           "align": "left"
          },
          "hovermode": "closest",
          "mapbox": {
           "style": "light"
          },
          "paper_bgcolor": "white",
          "plot_bgcolor": "#E5ECF6",
          "polar": {
           "angularaxis": {
            "gridcolor": "white",
            "linecolor": "white",
            "ticks": ""
           },
           "bgcolor": "#E5ECF6",
           "radialaxis": {
            "gridcolor": "white",
            "linecolor": "white",
            "ticks": ""
           }
          },
          "scene": {
           "xaxis": {
            "backgroundcolor": "#E5ECF6",
            "gridcolor": "white",
            "gridwidth": 2,
            "linecolor": "white",
            "showbackground": true,
            "ticks": "",
            "zerolinecolor": "white"
           },
           "yaxis": {
            "backgroundcolor": "#E5ECF6",
            "gridcolor": "white",
            "gridwidth": 2,
            "linecolor": "white",
            "showbackground": true,
            "ticks": "",
            "zerolinecolor": "white"
           },
           "zaxis": {
            "backgroundcolor": "#E5ECF6",
            "gridcolor": "white",
            "gridwidth": 2,
            "linecolor": "white",
            "showbackground": true,
            "ticks": "",
            "zerolinecolor": "white"
           }
          },
          "shapedefaults": {
           "line": {
            "color": "#2a3f5f"
           }
          },
          "ternary": {
           "aaxis": {
            "gridcolor": "white",
            "linecolor": "white",
            "ticks": ""
           },
           "baxis": {
            "gridcolor": "white",
            "linecolor": "white",
            "ticks": ""
           },
           "bgcolor": "#E5ECF6",
           "caxis": {
            "gridcolor": "white",
            "linecolor": "white",
            "ticks": ""
           }
          },
          "title": {
           "x": 0.05
          },
          "xaxis": {
           "automargin": true,
           "gridcolor": "white",
           "linecolor": "white",
           "ticks": "",
           "title": {
            "standoff": 15
           },
           "zerolinecolor": "white",
           "zerolinewidth": 2
          },
          "yaxis": {
           "automargin": true,
           "gridcolor": "white",
           "linecolor": "white",
           "ticks": "",
           "title": {
            "standoff": 15
           },
           "zerolinecolor": "white",
           "zerolinewidth": 2
          }
         }
        },
        "title": {
         "text": "Smokers Age"
        },
        "xaxis": {
         "autorange": true,
         "range": [
          17.5,
          120.5
         ],
         "title": {
          "text": "age"
         },
         "type": "linear"
        },
        "yaxis": {
         "autorange": true,
         "range": [
          0,
          264.2105263157895
         ],
         "title": {
          "text": "Smokers"
         },
         "type": "linear"
        }
       }
      },
      "image/png": "[encoded data removed]",
      "text/html": [
       "<div>                            <div id=\"ca8a97d3-cebc-4b1e-b488-6f672dc14e28\" class=\"plotly-graph-div\" style=\"height:525px; width:100%;\"></div>            <script type=\"text/javascript\">                require([\"plotly\"], function(Plotly) {                    window.PLOTLYENV=window.PLOTLYENV || {};                                    if (document.getElementById(\"ca8a97d3-cebc-4b1e-b488-6f672dc14e28\")) {                    Plotly.newPlot(                        \"ca8a97d3-cebc-4b1e-b488-6f672dc14e28\",                        [{\"x\":[18,20,21,22,23,24,25,26,27,28,29,30,31,32,33,34,35,36,37,38,39,40,41,42,43,44,45,46,47,48,49,50,51,52,53,54,55,56,57,58,59,60,61,62,63,64,65,66,67,68,69,70,71,72,73,74,75,76,77,78,79,80,81,82,83,84,85,86,87,88,89,90,91,92,93,94,95,96,97,98,99,100,101,102,103,104,105,106,107,108,110,115,116,120],\"y\":[4,3,2,2,3,6,6,12,15,6,14,13,16,17,20,33,36,21,42,36,52,60,57,58,78,77,96,106,119,111,171,130,159,168,189,186,186,215,235,237,212,216,251,232,238,249,210,225,224,208,237,238,211,196,179,189,177,175,147,157,131,156,119,103,98,87,79,69,91,47,50,51,40,34,37,21,19,22,19,15,12,11,10,8,3,6,2,1,3,2,1,2,2,1],\"type\":\"bar\"}],                        {\"template\":{\"data\":{\"histogram2dcontour\":[{\"type\":\"histogram2dcontour\",\"colorbar\":{\"outlinewidth\":0,\"ticks\":\"\"},\"colorscale\":[[0.0,\"#0d0887\"],[0.1111111111111111,\"#46039f\"],[0.2222222222222222,\"#7201a8\"],[0.3333333333333333,\"#9c179e\"],[0.4444444444444444,\"#bd3786\"],[0.5555555555555556,\"#d8576b\"],[0.6666666666666666,\"#ed7953\"],[0.7777777777777778,\"#fb9f3a\"],[0.8888888888888888,\"#fdca26\"],[1.0,\"#f0f921\"]]}],\"choropleth\":[{\"type\":\"choropleth\",\"colorbar\":{\"outlinewidth\":0,\"ticks\":\"\"}}],\"histogram2d\":[{\"type\":\"histogram2d\",\"colorbar\":{\"outlinewidth\":0,\"ticks\":\"\"},\"colorscale\":[[0.0,\"#0d0887\"],[0.1111111111111111,\"#46039f\"],[0.2222222222222222,\"#7201a8\"],[0.3333333333333333,\"#9c179e\"],[0.4444444444444444,\"#bd3786\"],[0.5555555555555556,\"#d8576b\"],[0.6666666666666666,\"#ed7953\"],[0.7777777777777778,\"#fb9f3a\"],[0.8888888888888888,\"#fdca26\"],[1.0,\"#f0f921\"]]}],\"heatmap\":[{\"type\":\"heatmap\",\"colorbar\":{\"outlinewidth\":0,\"ticks\":\"\"},\"colorscale\":[[0.0,\"#0d0887\"],[0.1111111111111111,\"#46039f\"],[0.2222222222222222,\"#7201a8\"],[0.3333333333333333,\"#9c179e\"],[0.4444444444444444,\"#bd3786\"],[0.5555555555555556,\"#d8576b\"],[0.6666666666666666,\"#ed7953\"],[0.7777777777777778,\"#fb9f3a\"],[0.8888888888888888,\"#fdca26\"],[1.0,\"#f0f921\"]]}],\"heatmapgl\":[{\"type\":\"heatmapgl\",\"colorbar\":{\"outlinewidth\":0,\"ticks\":\"\"},\"colorscale\":[[0.0,\"#0d0887\"],[0.1111111111111111,\"#46039f\"],[0.2222222222222222,\"#7201a8\"],[0.3333333333333333,\"#9c179e\"],[0.4444444444444444,\"#bd3786\"],[0.5555555555555556,\"#d8576b\"],[0.6666666666666666,\"#ed7953\"],[0.7777777777777778,\"#fb9f3a\"],[0.8888888888888888,\"#fdca26\"],[1.0,\"#f0f921\"]]}],\"contourcarpet\":[{\"type\":\"contourcarpet\",\"colorbar\":{\"outlinewidth\":0,\"ticks\":\"\"}}],\"contour\":[{\"type\":\"contour\",\"colorbar\":{\"outlinewidth\":0,\"ticks\":\"\"},\"colorscale\":[[0.0,\"#0d0887\"],[0.1111111111111111,\"#46039f\"],[0.2222222222222222,\"#7201a8\"],[0.3333333333333333,\"#9c179e\"],[0.4444444444444444,\"#bd3786\"],[0.5555555555555556,\"#d8576b\"],[0.6666666666666666,\"#ed7953\"],[0.7777777777777778,\"#fb9f3a\"],[0.8888888888888888,\"#fdca26\"],[1.0,\"#f0f921\"]]}],\"surface\":[{\"type\":\"surface\",\"colorbar\":{\"outlinewidth\":0,\"ticks\":\"\"},\"colorscale\":[[0.0,\"#0d0887\"],[0.1111111111111111,\"#46039f\"],[0.2222222222222222,\"#7201a8\"],[0.3333333333333333,\"#9c179e\"],[0.4444444444444444,\"#bd3786\"],[0.5555555555555556,\"#d8576b\"],[0.6666666666666666,\"#ed7953\"],[0.7777777777777778,\"#fb9f3a\"],[0.8888888888888888,\"#fdca26\"],[1.0,\"#f0f921\"]]}],\"mesh3d\":[{\"type\":\"mesh3d\",\"colorbar\":{\"outlinewidth\":0,\"ticks\":\"\"}}],\"scatter\":[{\"fillpattern\":{\"fillmode\":\"overlay\",\"size\":10,\"solidity\":0.2},\"type\":\"scatter\"}],\"parcoords\":[{\"type\":\"parcoords\",\"line\":{\"colorbar\":{\"outlinewidth\":0,\"ticks\":\"\"}}}],\"scatterpolargl\":[{\"type\":\"scatterpolargl\",\"marker\":{\"colorbar\":{\"outlinewidth\":0,\"ticks\":\"\"}}}],\"bar\":[{\"error_x\":{\"color\":\"#2a3f5f\"},\"error_y\":{\"color\":\"#2a3f5f\"},\"marker\":{\"line\":{\"color\":\"#E5ECF6\",\"width\":0.5},\"pattern\":{\"fillmode\":\"overlay\",\"size\":10,\"solidity\":0.2}},\"type\":\"bar\"}],\"scattergeo\":[{\"type\":\"scattergeo\",\"marker\":{\"colorbar\":{\"outlinewidth\":0,\"ticks\":\"\"}}}],\"scatterpolar\":[{\"type\":\"scatterpolar\",\"marker\":{\"colorbar\":{\"outlinewidth\":0,\"ticks\":\"\"}}}],\"histogram\":[{\"marker\":{\"pattern\":{\"fillmode\":\"overlay\",\"size\":10,\"solidity\":0.2}},\"type\":\"histogram\"}],\"scattergl\":[{\"type\":\"scattergl\",\"marker\":{\"colorbar\":{\"outlinewidth\":0,\"ticks\":\"\"}}}],\"scatter3d\":[{\"type\":\"scatter3d\",\"line\":{\"colorbar\":{\"outlinewidth\":0,\"ticks\":\"\"}},\"marker\":{\"colorbar\":{\"outlinewidth\":0,\"ticks\":\"\"}}}],\"scattermapbox\":[{\"type\":\"scattermapbox\",\"marker\":{\"colorbar\":{\"outlinewidth\":0,\"ticks\":\"\"}}}],\"scatterternary\":[{\"type\":\"scatterternary\",\"marker\":{\"colorbar\":{\"outlinewidth\":0,\"ticks\":\"\"}}}],\"scattercarpet\":[{\"type\":\"scattercarpet\",\"marker\":{\"colorbar\":{\"outlinewidth\":0,\"ticks\":\"\"}}}],\"carpet\":[{\"aaxis\":{\"endlinecolor\":\"#2a3f5f\",\"gridcolor\":\"white\",\"linecolor\":\"white\",\"minorgridcolor\":\"white\",\"startlinecolor\":\"#2a3f5f\"},\"baxis\":{\"endlinecolor\":\"#2a3f5f\",\"gridcolor\":\"white\",\"linecolor\":\"white\",\"minorgridcolor\":\"white\",\"startlinecolor\":\"#2a3f5f\"},\"type\":\"carpet\"}],\"table\":[{\"cells\":{\"fill\":{\"color\":\"#EBF0F8\"},\"line\":{\"color\":\"white\"}},\"header\":{\"fill\":{\"color\":\"#C8D4E3\"},\"line\":{\"color\":\"white\"}},\"type\":\"table\"}],\"barpolar\":[{\"marker\":{\"line\":{\"color\":\"#E5ECF6\",\"width\":0.5},\"pattern\":{\"fillmode\":\"overlay\",\"size\":10,\"solidity\":0.2}},\"type\":\"barpolar\"}],\"pie\":[{\"automargin\":true,\"type\":\"pie\"}]},\"layout\":{\"autotypenumbers\":\"strict\",\"colorway\":[\"#636efa\",\"#EF553B\",\"#00cc96\",\"#ab63fa\",\"#FFA15A\",\"#19d3f3\",\"#FF6692\",\"#B6E880\",\"#FF97FF\",\"#FECB52\"],\"font\":{\"color\":\"#2a3f5f\"},\"hovermode\":\"closest\",\"hoverlabel\":{\"align\":\"left\"},\"paper_bgcolor\":\"white\",\"plot_bgcolor\":\"#E5ECF6\",\"polar\":{\"bgcolor\":\"#E5ECF6\",\"angularaxis\":{\"gridcolor\":\"white\",\"linecolor\":\"white\",\"ticks\":\"\"},\"radialaxis\":{\"gridcolor\":\"white\",\"linecolor\":\"white\",\"ticks\":\"\"}},\"ternary\":{\"bgcolor\":\"#E5ECF6\",\"aaxis\":{\"gridcolor\":\"white\",\"linecolor\":\"white\",\"ticks\":\"\"},\"baxis\":{\"gridcolor\":\"white\",\"linecolor\":\"white\",\"ticks\":\"\"},\"caxis\":{\"gridcolor\":\"white\",\"linecolor\":\"white\",\"ticks\":\"\"}},\"coloraxis\":{\"colorbar\":{\"outlinewidth\":0,\"ticks\":\"\"}},\"colorscale\":{\"sequential\":[[0.0,\"#0d0887\"],[0.1111111111111111,\"#46039f\"],[0.2222222222222222,\"#7201a8\"],[0.3333333333333333,\"#9c179e\"],[0.4444444444444444,\"#bd3786\"],[0.5555555555555556,\"#d8576b\"],[0.6666666666666666,\"#ed7953\"],[0.7777777777777778,\"#fb9f3a\"],[0.8888888888888888,\"#fdca26\"],[1.0,\"#f0f921\"]],\"sequentialminus\":[[0.0,\"#0d0887\"],[0.1111111111111111,\"#46039f\"],[0.2222222222222222,\"#7201a8\"],[0.3333333333333333,\"#9c179e\"],[0.4444444444444444,\"#bd3786\"],[0.5555555555555556,\"#d8576b\"],[0.6666666666666666,\"#ed7953\"],[0.7777777777777778,\"#fb9f3a\"],[0.8888888888888888,\"#fdca26\"],[1.0,\"#f0f921\"]],\"diverging\":[[0,\"#8e0152\"],[0.1,\"#c51b7d\"],[0.2,\"#de77ae\"],[0.3,\"#f1b6da\"],[0.4,\"#fde0ef\"],[0.5,\"#f7f7f7\"],[0.6,\"#e6f5d0\"],[0.7,\"#b8e186\"],[0.8,\"#7fbc41\"],[0.9,\"#4d9221\"],[1,\"#276419\"]]},\"xaxis\":{\"gridcolor\":\"white\",\"linecolor\":\"white\",\"ticks\":\"\",\"title\":{\"standoff\":15},\"zerolinecolor\":\"white\",\"automargin\":true,\"zerolinewidth\":2},\"yaxis\":{\"gridcolor\":\"white\",\"linecolor\":\"white\",\"ticks\":\"\",\"title\":{\"standoff\":15},\"zerolinecolor\":\"white\",\"automargin\":true,\"zerolinewidth\":2},\"scene\":{\"xaxis\":{\"backgroundcolor\":\"#E5ECF6\",\"gridcolor\":\"white\",\"linecolor\":\"white\",\"showbackground\":true,\"ticks\":\"\",\"zerolinecolor\":\"white\",\"gridwidth\":2},\"yaxis\":{\"backgroundcolor\":\"#E5ECF6\",\"gridcolor\":\"white\",\"linecolor\":\"white\",\"showbackground\":true,\"ticks\":\"\",\"zerolinecolor\":\"white\",\"gridwidth\":2},\"zaxis\":{\"backgroundcolor\":\"#E5ECF6\",\"gridcolor\":\"white\",\"linecolor\":\"white\",\"showbackground\":true,\"ticks\":\"\",\"zerolinecolor\":\"white\",\"gridwidth\":2}},\"shapedefaults\":{\"line\":{\"color\":\"#2a3f5f\"}},\"annotationdefaults\":{\"arrowcolor\":\"#2a3f5f\",\"arrowhead\":0,\"arrowwidth\":1},\"geo\":{\"bgcolor\":\"white\",\"landcolor\":\"#E5ECF6\",\"subunitcolor\":\"white\",\"showland\":true,\"showlakes\":true,\"lakecolor\":\"white\"},\"title\":{\"x\":0.05},\"mapbox\":{\"style\":\"light\"}}},\"title\":{\"text\":\"Smokers Age\"},\"xaxis\":{\"title\":{\"text\":\"age\"}},\"yaxis\":{\"title\":{\"text\":\"Smokers\"}}},                        {\"responsive\": true}                    ).then(function(){\n",
       "                            \n",
       "var gd = document.getElementById('ca8a97d3-cebc-4b1e-b488-6f672dc14e28');\n",
       "var x = new MutationObserver(function (mutations, observer) {{\n",
       "        var display = window.getComputedStyle(gd).display;\n",
       "        if (!display || display === 'none') {{\n",
       "            console.log([gd, 'removed!']);\n",
       "            Plotly.purge(gd);\n",
       "            observer.disconnect();\n",
       "        }}\n",
       "}});\n",
       "\n",
       "// Listen for the removal of the full notebook cells\n",
       "var notebookContainer = gd.closest('#notebook-container');\n",
       "if (notebookContainer) {{\n",
       "    x.observe(notebookContainer, {childList: true});\n",
       "}}\n",
       "\n",
       "// Listen for the clearing of the current output cell\n",
       "var outputEl = gd.closest('.output');\n",
       "if (outputEl) {{\n",
       "    x.observe(outputEl, {childList: true});\n",
       "}}\n",
       "\n",
       "                        })                };                });            </script>        </div>"
      ]
     },
     "metadata": {},
     "output_type": "display_data"
    }
   ],
   "source": [
    "fig = go.Figure()\n",
    "fig.add_trace(go.Bar(x=label,y=target))\n",
    "fig.update_layout(title = 'Smokers Age',xaxis=dict(title='age'),yaxis=dict(title='Smokers'))\n",
    "fig.show()"
   ]
  },
  {
   "cell_type": "code",
   "execution_count": 370,
   "id": "24d5c499-2049-4ba8-8e2c-57212f448e1a",
   "metadata": {},
   "outputs": [
    {
     "data": {
      "application/vnd.plotly.v1+json": {
       "config": {
        "plotlyServerURL": "https://plot.ly"
       },
       "data": [
        {
         "mode": "markers+lines",
         "type": "scatter",
         "x": [
          18,
          20,
          21,
          22,
          23,
          24,
          25,
          26,
          27,
          28,
          29,
          30,
          31,
          32,
          33,
          34,
          35,
          36,
          37,
          38,
          39,
          40,
          41,
          42,
          43,
          44,
          45,
          46,
          47,
          48,
          49,
          50,
          51,
          52,
          53,
          54,
          55,
          56,
          57,
          58,
          59,
          60,
          61,
          62,
          63,
          64,
          65,
          66,
          67,
          68,
          69,
          70,
          71,
          72,
          73,
          74,
          75,
          76,
          77,
          78,
          79,
          80,
          81,
          82,
          83,
          84,
          85,
          86,
          87,
          88,
          89,
          90,
          91,
          92,
          93,
          94,
          95,
          96,
          97,
          98,
          99,
          100,
          101,
          102,
          103,
          104,
          105,
          106,
          107,
          108,
          110,
          115,
          116,
          120
         ],
         "y": [
          4,
          3,
          2,
          2,
          3,
          6,
          6,
          12,
          15,
          6,
          14,
          13,
          16,
          17,
          20,
          33,
          36,
          21,
          42,
          36,
          52,
          60,
          57,
          58,
          78,
          77,
          96,
          106,
          119,
          111,
          171,
          130,
          159,
          168,
          189,
          186,
          186,
          215,
          235,
          237,
          212,
          216,
          251,
          232,
          238,
          249,
          210,
          225,
          224,
          208,
          237,
          238,
          211,
          196,
          179,
          189,
          177,
          175,
          147,
          157,
          131,
          156,
          119,
          103,
          98,
          87,
          79,
          69,
          91,
          47,
          50,
          51,
          40,
          34,
          37,
          21,
          19,
          22,
          19,
          15,
          12,
          11,
          10,
          8,
          3,
          6,
          2,
          1,
          3,
          2,
          1,
          2,
          2,
          1
         ]
        }
       ],
       "layout": {
        "autosize": true,
        "template": {
         "data": {
          "bar": [
           {
            "error_x": {
             "color": "#2a3f5f"
            },
            "error_y": {
             "color": "#2a3f5f"
            },
            "marker": {
             "line": {
              "color": "#E5ECF6",
              "width": 0.5
             },
             "pattern": {
              "fillmode": "overlay",
              "size": 10,
              "solidity": 0.2
             }
            },
            "type": "bar"
           }
          ],
          "barpolar": [
           {
            "marker": {
             "line": {
              "color": "#E5ECF6",
              "width": 0.5
             },
             "pattern": {
              "fillmode": "overlay",
              "size": 10,
              "solidity": 0.2
             }
            },
            "type": "barpolar"
           }
          ],
          "carpet": [
           {
            "aaxis": {
             "endlinecolor": "#2a3f5f",
             "gridcolor": "white",
             "linecolor": "white",
             "minorgridcolor": "white",
             "startlinecolor": "#2a3f5f"
            },
            "baxis": {
             "endlinecolor": "#2a3f5f",
             "gridcolor": "white",
             "linecolor": "white",
             "minorgridcolor": "white",
             "startlinecolor": "#2a3f5f"
            },
            "type": "carpet"
           }
          ],
          "choropleth": [
           {
            "colorbar": {
             "outlinewidth": 0,
             "ticks": ""
            },
            "type": "choropleth"
           }
          ],
          "contour": [
           {
            "colorbar": {
             "outlinewidth": 0,
             "ticks": ""
            },
            "colorscale": [
             [
              0,
              "#0d0887"
             ],
             [
              0.1111111111111111,
              "#46039f"
             ],
             [
              0.2222222222222222,
              "#7201a8"
             ],
             [
              0.3333333333333333,
              "#9c179e"
             ],
             [
              0.4444444444444444,
              "#bd3786"
             ],
             [
              0.5555555555555556,
              "#d8576b"
             ],
             [
              0.6666666666666666,
              "#ed7953"
             ],
             [
              0.7777777777777778,
              "#fb9f3a"
             ],
             [
              0.8888888888888888,
              "#fdca26"
             ],
             [
              1,
              "#f0f921"
             ]
            ],
            "type": "contour"
           }
          ],
          "contourcarpet": [
           {
            "colorbar": {
             "outlinewidth": 0,
             "ticks": ""
            },
            "type": "contourcarpet"
           }
          ],
          "heatmap": [
           {
            "colorbar": {
             "outlinewidth": 0,
             "ticks": ""
            },
            "colorscale": [
             [
              0,
              "#0d0887"
             ],
             [
              0.1111111111111111,
              "#46039f"
             ],
             [
              0.2222222222222222,
              "#7201a8"
             ],
             [
              0.3333333333333333,
              "#9c179e"
             ],
             [
              0.4444444444444444,
              "#bd3786"
             ],
             [
              0.5555555555555556,
              "#d8576b"
             ],
             [
              0.6666666666666666,
              "#ed7953"
             ],
             [
              0.7777777777777778,
              "#fb9f3a"
             ],
             [
              0.8888888888888888,
              "#fdca26"
             ],
             [
              1,
              "#f0f921"
             ]
            ],
            "type": "heatmap"
           }
          ],
          "heatmapgl": [
           {
            "colorbar": {
             "outlinewidth": 0,
             "ticks": ""
            },
            "colorscale": [
             [
              0,
              "#0d0887"
             ],
             [
              0.1111111111111111,
              "#46039f"
             ],
             [
              0.2222222222222222,
              "#7201a8"
             ],
             [
              0.3333333333333333,
              "#9c179e"
             ],
             [
              0.4444444444444444,
              "#bd3786"
             ],
             [
              0.5555555555555556,
              "#d8576b"
             ],
             [
              0.6666666666666666,
              "#ed7953"
             ],
             [
              0.7777777777777778,
              "#fb9f3a"
             ],
             [
              0.8888888888888888,
              "#fdca26"
             ],
             [
              1,
              "#f0f921"
             ]
            ],
            "type": "heatmapgl"
           }
          ],
          "histogram": [
           {
            "marker": {
             "pattern": {
              "fillmode": "overlay",
              "size": 10,
              "solidity": 0.2
             }
            },
            "type": "histogram"
           }
          ],
          "histogram2d": [
           {
            "colorbar": {
             "outlinewidth": 0,
             "ticks": ""
            },
            "colorscale": [
             [
              0,
              "#0d0887"
             ],
             [
              0.1111111111111111,
              "#46039f"
             ],
             [
              0.2222222222222222,
              "#7201a8"
             ],
             [
              0.3333333333333333,
              "#9c179e"
             ],
             [
              0.4444444444444444,
              "#bd3786"
             ],
             [
              0.5555555555555556,
              "#d8576b"
             ],
             [
              0.6666666666666666,
              "#ed7953"
             ],
             [
              0.7777777777777778,
              "#fb9f3a"
             ],
             [
              0.8888888888888888,
              "#fdca26"
             ],
             [
              1,
              "#f0f921"
             ]
            ],
            "type": "histogram2d"
           }
          ],
          "histogram2dcontour": [
           {
            "colorbar": {
             "outlinewidth": 0,
             "ticks": ""
            },
            "colorscale": [
             [
              0,
              "#0d0887"
             ],
             [
              0.1111111111111111,
              "#46039f"
             ],
             [
              0.2222222222222222,
              "#7201a8"
             ],
             [
              0.3333333333333333,
              "#9c179e"
             ],
             [
              0.4444444444444444,
              "#bd3786"
             ],
             [
              0.5555555555555556,
              "#d8576b"
             ],
             [
              0.6666666666666666,
              "#ed7953"
             ],
             [
              0.7777777777777778,
              "#fb9f3a"
             ],
             [
              0.8888888888888888,
              "#fdca26"
             ],
             [
              1,
              "#f0f921"
             ]
            ],
            "type": "histogram2dcontour"
           }
          ],
          "mesh3d": [
           {
            "colorbar": {
             "outlinewidth": 0,
             "ticks": ""
            },
            "type": "mesh3d"
           }
          ],
          "parcoords": [
           {
            "line": {
             "colorbar": {
              "outlinewidth": 0,
              "ticks": ""
             }
            },
            "type": "parcoords"
           }
          ],
          "pie": [
           {
            "automargin": true,
            "type": "pie"
           }
          ],
          "scatter": [
           {
            "fillpattern": {
             "fillmode": "overlay",
             "size": 10,
             "solidity": 0.2
            },
            "type": "scatter"
           }
          ],
          "scatter3d": [
           {
            "line": {
             "colorbar": {
              "outlinewidth": 0,
              "ticks": ""
             }
            },
            "marker": {
             "colorbar": {
              "outlinewidth": 0,
              "ticks": ""
             }
            },
            "type": "scatter3d"
           }
          ],
          "scattercarpet": [
           {
            "marker": {
             "colorbar": {
              "outlinewidth": 0,
              "ticks": ""
             }
            },
            "type": "scattercarpet"
           }
          ],
          "scattergeo": [
           {
            "marker": {
             "colorbar": {
              "outlinewidth": 0,
              "ticks": ""
             }
            },
            "type": "scattergeo"
           }
          ],
          "scattergl": [
           {
            "marker": {
             "colorbar": {
              "outlinewidth": 0,
              "ticks": ""
             }
            },
            "type": "scattergl"
           }
          ],
          "scattermapbox": [
           {
            "marker": {
             "colorbar": {
              "outlinewidth": 0,
              "ticks": ""
             }
            },
            "type": "scattermapbox"
           }
          ],
          "scatterpolar": [
           {
            "marker": {
             "colorbar": {
              "outlinewidth": 0,
              "ticks": ""
             }
            },
            "type": "scatterpolar"
           }
          ],
          "scatterpolargl": [
           {
            "marker": {
             "colorbar": {
              "outlinewidth": 0,
              "ticks": ""
             }
            },
            "type": "scatterpolargl"
           }
          ],
          "scatterternary": [
           {
            "marker": {
             "colorbar": {
              "outlinewidth": 0,
              "ticks": ""
             }
            },
            "type": "scatterternary"
           }
          ],
          "surface": [
           {
            "colorbar": {
             "outlinewidth": 0,
             "ticks": ""
            },
            "colorscale": [
             [
              0,
              "#0d0887"
             ],
             [
              0.1111111111111111,
              "#46039f"
             ],
             [
              0.2222222222222222,
              "#7201a8"
             ],
             [
              0.3333333333333333,
              "#9c179e"
             ],
             [
              0.4444444444444444,
              "#bd3786"
             ],
             [
              0.5555555555555556,
              "#d8576b"
             ],
             [
              0.6666666666666666,
              "#ed7953"
             ],
             [
              0.7777777777777778,
              "#fb9f3a"
             ],
             [
              0.8888888888888888,
              "#fdca26"
             ],
             [
              1,
              "#f0f921"
             ]
            ],
            "type": "surface"
           }
          ],
          "table": [
           {
            "cells": {
             "fill": {
              "color": "#EBF0F8"
             },
             "line": {
              "color": "white"
             }
            },
            "header": {
             "fill": {
              "color": "#C8D4E3"
             },
             "line": {
              "color": "white"
             }
            },
            "type": "table"
           }
          ]
         },
         "layout": {
          "annotationdefaults": {
           "arrowcolor": "#2a3f5f",
           "arrowhead": 0,
           "arrowwidth": 1
          },
          "autotypenumbers": "strict",
          "coloraxis": {
           "colorbar": {
            "outlinewidth": 0,
            "ticks": ""
           }
          },
          "colorscale": {
           "diverging": [
            [
             0,
             "#8e0152"
            ],
            [
             0.1,
             "#c51b7d"
            ],
            [
             0.2,
             "#de77ae"
            ],
            [
             0.3,
             "#f1b6da"
            ],
            [
             0.4,
             "#fde0ef"
            ],
            [
             0.5,
             "#f7f7f7"
            ],
            [
             0.6,
             "#e6f5d0"
            ],
            [
             0.7,
             "#b8e186"
            ],
            [
             0.8,
             "#7fbc41"
            ],
            [
             0.9,
             "#4d9221"
            ],
            [
             1,
             "#276419"
            ]
           ],
           "sequential": [
            [
             0,
             "#0d0887"
            ],
            [
             0.1111111111111111,
             "#46039f"
            ],
            [
             0.2222222222222222,
             "#7201a8"
            ],
            [
             0.3333333333333333,
             "#9c179e"
            ],
            [
             0.4444444444444444,
             "#bd3786"
            ],
            [
             0.5555555555555556,
             "#d8576b"
            ],
            [
             0.6666666666666666,
             "#ed7953"
            ],
            [
             0.7777777777777778,
             "#fb9f3a"
            ],
            [
             0.8888888888888888,
             "#fdca26"
            ],
            [
             1,
             "#f0f921"
            ]
           ],
           "sequentialminus": [
            [
             0,
             "#0d0887"
            ],
            [
             0.1111111111111111,
             "#46039f"
            ],
            [
             0.2222222222222222,
             "#7201a8"
            ],
            [
             0.3333333333333333,
             "#9c179e"
            ],
            [
             0.4444444444444444,
             "#bd3786"
            ],
            [
             0.5555555555555556,
             "#d8576b"
            ],
            [
             0.6666666666666666,
             "#ed7953"
            ],
            [
             0.7777777777777778,
             "#fb9f3a"
            ],
            [
             0.8888888888888888,
             "#fdca26"
            ],
            [
             1,
             "#f0f921"
            ]
           ]
          },
          "colorway": [
           "#636efa",
           "#EF553B",
           "#00cc96",
           "#ab63fa",
           "#FFA15A",
           "#19d3f3",
           "#FF6692",
           "#B6E880",
           "#FF97FF",
           "#FECB52"
          ],
          "font": {
           "color": "#2a3f5f"
          },
          "geo": {
           "bgcolor": "white",
           "lakecolor": "white",
           "landcolor": "#E5ECF6",
           "showlakes": true,
           "showland": true,
           "subunitcolor": "white"
          },
          "hoverlabel": {
           "align": "left"
          },
          "hovermode": "closest",
          "mapbox": {
           "style": "light"
          },
          "paper_bgcolor": "white",
          "plot_bgcolor": "#E5ECF6",
          "polar": {
           "angularaxis": {
            "gridcolor": "white",
            "linecolor": "white",
            "ticks": ""
           },
           "bgcolor": "#E5ECF6",
           "radialaxis": {
            "gridcolor": "white",
            "linecolor": "white",
            "ticks": ""
           }
          },
          "scene": {
           "xaxis": {
            "backgroundcolor": "#E5ECF6",
            "gridcolor": "white",
            "gridwidth": 2,
            "linecolor": "white",
            "showbackground": true,
            "ticks": "",
            "zerolinecolor": "white"
           },
           "yaxis": {
            "backgroundcolor": "#E5ECF6",
            "gridcolor": "white",
            "gridwidth": 2,
            "linecolor": "white",
            "showbackground": true,
            "ticks": "",
            "zerolinecolor": "white"
           },
           "zaxis": {
            "backgroundcolor": "#E5ECF6",
            "gridcolor": "white",
            "gridwidth": 2,
            "linecolor": "white",
            "showbackground": true,
            "ticks": "",
            "zerolinecolor": "white"
           }
          },
          "shapedefaults": {
           "line": {
            "color": "#2a3f5f"
           }
          },
          "ternary": {
           "aaxis": {
            "gridcolor": "white",
            "linecolor": "white",
            "ticks": ""
           },
           "baxis": {
            "gridcolor": "white",
            "linecolor": "white",
            "ticks": ""
           },
           "bgcolor": "#E5ECF6",
           "caxis": {
            "gridcolor": "white",
            "linecolor": "white",
            "ticks": ""
           }
          },
          "title": {
           "x": 0.05
          },
          "xaxis": {
           "automargin": true,
           "gridcolor": "white",
           "linecolor": "white",
           "ticks": "",
           "title": {
            "standoff": 15
           },
           "zerolinecolor": "white",
           "zerolinewidth": 2
          },
          "yaxis": {
           "automargin": true,
           "gridcolor": "white",
           "linecolor": "white",
           "ticks": "",
           "title": {
            "standoff": 15
           },
           "zerolinecolor": "white",
           "zerolinewidth": 2
          }
         }
        },
        "title": {
         "text": "Smokers Age"
        },
        "xaxis": {
         "autorange": true,
         "range": [
          11.82918149466192,
          126.17081850533808
         ],
         "title": {
          "text": "age"
         },
         "type": "linear"
        },
        "yaxis": {
         "autorange": true,
         "range": [
          -19.63106796116505,
          271.63106796116506
         ],
         "title": {
          "text": "Smokers"
         },
         "type": "linear"
        }
       }
      },
      "image/png": "[encoded data removed]",
      "text/html": [
       "<div>                            <div id=\"ec6d3def-fbd6-49c7-a48e-12706bee8f69\" class=\"plotly-graph-div\" style=\"height:525px; width:100%;\"></div>            <script type=\"text/javascript\">                require([\"plotly\"], function(Plotly) {                    window.PLOTLYENV=window.PLOTLYENV || {};                                    if (document.getElementById(\"ec6d3def-fbd6-49c7-a48e-12706bee8f69\")) {                    Plotly.newPlot(                        \"ec6d3def-fbd6-49c7-a48e-12706bee8f69\",                        [{\"mode\":\"markers+lines\",\"x\":[18,20,21,22,23,24,25,26,27,28,29,30,31,32,33,34,35,36,37,38,39,40,41,42,43,44,45,46,47,48,49,50,51,52,53,54,55,56,57,58,59,60,61,62,63,64,65,66,67,68,69,70,71,72,73,74,75,76,77,78,79,80,81,82,83,84,85,86,87,88,89,90,91,92,93,94,95,96,97,98,99,100,101,102,103,104,105,106,107,108,110,115,116,120],\"y\":[4,3,2,2,3,6,6,12,15,6,14,13,16,17,20,33,36,21,42,36,52,60,57,58,78,77,96,106,119,111,171,130,159,168,189,186,186,215,235,237,212,216,251,232,238,249,210,225,224,208,237,238,211,196,179,189,177,175,147,157,131,156,119,103,98,87,79,69,91,47,50,51,40,34,37,21,19,22,19,15,12,11,10,8,3,6,2,1,3,2,1,2,2,1],\"type\":\"scatter\"}],                        {\"template\":{\"data\":{\"histogram2dcontour\":[{\"type\":\"histogram2dcontour\",\"colorbar\":{\"outlinewidth\":0,\"ticks\":\"\"},\"colorscale\":[[0.0,\"#0d0887\"],[0.1111111111111111,\"#46039f\"],[0.2222222222222222,\"#7201a8\"],[0.3333333333333333,\"#9c179e\"],[0.4444444444444444,\"#bd3786\"],[0.5555555555555556,\"#d8576b\"],[0.6666666666666666,\"#ed7953\"],[0.7777777777777778,\"#fb9f3a\"],[0.8888888888888888,\"#fdca26\"],[1.0,\"#f0f921\"]]}],\"choropleth\":[{\"type\":\"choropleth\",\"colorbar\":{\"outlinewidth\":0,\"ticks\":\"\"}}],\"histogram2d\":[{\"type\":\"histogram2d\",\"colorbar\":{\"outlinewidth\":0,\"ticks\":\"\"},\"colorscale\":[[0.0,\"#0d0887\"],[0.1111111111111111,\"#46039f\"],[0.2222222222222222,\"#7201a8\"],[0.3333333333333333,\"#9c179e\"],[0.4444444444444444,\"#bd3786\"],[0.5555555555555556,\"#d8576b\"],[0.6666666666666666,\"#ed7953\"],[0.7777777777777778,\"#fb9f3a\"],[0.8888888888888888,\"#fdca26\"],[1.0,\"#f0f921\"]]}],\"heatmap\":[{\"type\":\"heatmap\",\"colorbar\":{\"outlinewidth\":0,\"ticks\":\"\"},\"colorscale\":[[0.0,\"#0d0887\"],[0.1111111111111111,\"#46039f\"],[0.2222222222222222,\"#7201a8\"],[0.3333333333333333,\"#9c179e\"],[0.4444444444444444,\"#bd3786\"],[0.5555555555555556,\"#d8576b\"],[0.6666666666666666,\"#ed7953\"],[0.7777777777777778,\"#fb9f3a\"],[0.8888888888888888,\"#fdca26\"],[1.0,\"#f0f921\"]]}],\"heatmapgl\":[{\"type\":\"heatmapgl\",\"colorbar\":{\"outlinewidth\":0,\"ticks\":\"\"},\"colorscale\":[[0.0,\"#0d0887\"],[0.1111111111111111,\"#46039f\"],[0.2222222222222222,\"#7201a8\"],[0.3333333333333333,\"#9c179e\"],[0.4444444444444444,\"#bd3786\"],[0.5555555555555556,\"#d8576b\"],[0.6666666666666666,\"#ed7953\"],[0.7777777777777778,\"#fb9f3a\"],[0.8888888888888888,\"#fdca26\"],[1.0,\"#f0f921\"]]}],\"contourcarpet\":[{\"type\":\"contourcarpet\",\"colorbar\":{\"outlinewidth\":0,\"ticks\":\"\"}}],\"contour\":[{\"type\":\"contour\",\"colorbar\":{\"outlinewidth\":0,\"ticks\":\"\"},\"colorscale\":[[0.0,\"#0d0887\"],[0.1111111111111111,\"#46039f\"],[0.2222222222222222,\"#7201a8\"],[0.3333333333333333,\"#9c179e\"],[0.4444444444444444,\"#bd3786\"],[0.5555555555555556,\"#d8576b\"],[0.6666666666666666,\"#ed7953\"],[0.7777777777777778,\"#fb9f3a\"],[0.8888888888888888,\"#fdca26\"],[1.0,\"#f0f921\"]]}],\"surface\":[{\"type\":\"surface\",\"colorbar\":{\"outlinewidth\":0,\"ticks\":\"\"},\"colorscale\":[[0.0,\"#0d0887\"],[0.1111111111111111,\"#46039f\"],[0.2222222222222222,\"#7201a8\"],[0.3333333333333333,\"#9c179e\"],[0.4444444444444444,\"#bd3786\"],[0.5555555555555556,\"#d8576b\"],[0.6666666666666666,\"#ed7953\"],[0.7777777777777778,\"#fb9f3a\"],[0.8888888888888888,\"#fdca26\"],[1.0,\"#f0f921\"]]}],\"mesh3d\":[{\"type\":\"mesh3d\",\"colorbar\":{\"outlinewidth\":0,\"ticks\":\"\"}}],\"scatter\":[{\"fillpattern\":{\"fillmode\":\"overlay\",\"size\":10,\"solidity\":0.2},\"type\":\"scatter\"}],\"parcoords\":[{\"type\":\"parcoords\",\"line\":{\"colorbar\":{\"outlinewidth\":0,\"ticks\":\"\"}}}],\"scatterpolargl\":[{\"type\":\"scatterpolargl\",\"marker\":{\"colorbar\":{\"outlinewidth\":0,\"ticks\":\"\"}}}],\"bar\":[{\"error_x\":{\"color\":\"#2a3f5f\"},\"error_y\":{\"color\":\"#2a3f5f\"},\"marker\":{\"line\":{\"color\":\"#E5ECF6\",\"width\":0.5},\"pattern\":{\"fillmode\":\"overlay\",\"size\":10,\"solidity\":0.2}},\"type\":\"bar\"}],\"scattergeo\":[{\"type\":\"scattergeo\",\"marker\":{\"colorbar\":{\"outlinewidth\":0,\"ticks\":\"\"}}}],\"scatterpolar\":[{\"type\":\"scatterpolar\",\"marker\":{\"colorbar\":{\"outlinewidth\":0,\"ticks\":\"\"}}}],\"histogram\":[{\"marker\":{\"pattern\":{\"fillmode\":\"overlay\",\"size\":10,\"solidity\":0.2}},\"type\":\"histogram\"}],\"scattergl\":[{\"type\":\"scattergl\",\"marker\":{\"colorbar\":{\"outlinewidth\":0,\"ticks\":\"\"}}}],\"scatter3d\":[{\"type\":\"scatter3d\",\"line\":{\"colorbar\":{\"outlinewidth\":0,\"ticks\":\"\"}},\"marker\":{\"colorbar\":{\"outlinewidth\":0,\"ticks\":\"\"}}}],\"scattermapbox\":[{\"type\":\"scattermapbox\",\"marker\":{\"colorbar\":{\"outlinewidth\":0,\"ticks\":\"\"}}}],\"scatterternary\":[{\"type\":\"scatterternary\",\"marker\":{\"colorbar\":{\"outlinewidth\":0,\"ticks\":\"\"}}}],\"scattercarpet\":[{\"type\":\"scattercarpet\",\"marker\":{\"colorbar\":{\"outlinewidth\":0,\"ticks\":\"\"}}}],\"carpet\":[{\"aaxis\":{\"endlinecolor\":\"#2a3f5f\",\"gridcolor\":\"white\",\"linecolor\":\"white\",\"minorgridcolor\":\"white\",\"startlinecolor\":\"#2a3f5f\"},\"baxis\":{\"endlinecolor\":\"#2a3f5f\",\"gridcolor\":\"white\",\"linecolor\":\"white\",\"minorgridcolor\":\"white\",\"startlinecolor\":\"#2a3f5f\"},\"type\":\"carpet\"}],\"table\":[{\"cells\":{\"fill\":{\"color\":\"#EBF0F8\"},\"line\":{\"color\":\"white\"}},\"header\":{\"fill\":{\"color\":\"#C8D4E3\"},\"line\":{\"color\":\"white\"}},\"type\":\"table\"}],\"barpolar\":[{\"marker\":{\"line\":{\"color\":\"#E5ECF6\",\"width\":0.5},\"pattern\":{\"fillmode\":\"overlay\",\"size\":10,\"solidity\":0.2}},\"type\":\"barpolar\"}],\"pie\":[{\"automargin\":true,\"type\":\"pie\"}]},\"layout\":{\"autotypenumbers\":\"strict\",\"colorway\":[\"#636efa\",\"#EF553B\",\"#00cc96\",\"#ab63fa\",\"#FFA15A\",\"#19d3f3\",\"#FF6692\",\"#B6E880\",\"#FF97FF\",\"#FECB52\"],\"font\":{\"color\":\"#2a3f5f\"},\"hovermode\":\"closest\",\"hoverlabel\":{\"align\":\"left\"},\"paper_bgcolor\":\"white\",\"plot_bgcolor\":\"#E5ECF6\",\"polar\":{\"bgcolor\":\"#E5ECF6\",\"angularaxis\":{\"gridcolor\":\"white\",\"linecolor\":\"white\",\"ticks\":\"\"},\"radialaxis\":{\"gridcolor\":\"white\",\"linecolor\":\"white\",\"ticks\":\"\"}},\"ternary\":{\"bgcolor\":\"#E5ECF6\",\"aaxis\":{\"gridcolor\":\"white\",\"linecolor\":\"white\",\"ticks\":\"\"},\"baxis\":{\"gridcolor\":\"white\",\"linecolor\":\"white\",\"ticks\":\"\"},\"caxis\":{\"gridcolor\":\"white\",\"linecolor\":\"white\",\"ticks\":\"\"}},\"coloraxis\":{\"colorbar\":{\"outlinewidth\":0,\"ticks\":\"\"}},\"colorscale\":{\"sequential\":[[0.0,\"#0d0887\"],[0.1111111111111111,\"#46039f\"],[0.2222222222222222,\"#7201a8\"],[0.3333333333333333,\"#9c179e\"],[0.4444444444444444,\"#bd3786\"],[0.5555555555555556,\"#d8576b\"],[0.6666666666666666,\"#ed7953\"],[0.7777777777777778,\"#fb9f3a\"],[0.8888888888888888,\"#fdca26\"],[1.0,\"#f0f921\"]],\"sequentialminus\":[[0.0,\"#0d0887\"],[0.1111111111111111,\"#46039f\"],[0.2222222222222222,\"#7201a8\"],[0.3333333333333333,\"#9c179e\"],[0.4444444444444444,\"#bd3786\"],[0.5555555555555556,\"#d8576b\"],[0.6666666666666666,\"#ed7953\"],[0.7777777777777778,\"#fb9f3a\"],[0.8888888888888888,\"#fdca26\"],[1.0,\"#f0f921\"]],\"diverging\":[[0,\"#8e0152\"],[0.1,\"#c51b7d\"],[0.2,\"#de77ae\"],[0.3,\"#f1b6da\"],[0.4,\"#fde0ef\"],[0.5,\"#f7f7f7\"],[0.6,\"#e6f5d0\"],[0.7,\"#b8e186\"],[0.8,\"#7fbc41\"],[0.9,\"#4d9221\"],[1,\"#276419\"]]},\"xaxis\":{\"gridcolor\":\"white\",\"linecolor\":\"white\",\"ticks\":\"\",\"title\":{\"standoff\":15},\"zerolinecolor\":\"white\",\"automargin\":true,\"zerolinewidth\":2},\"yaxis\":{\"gridcolor\":\"white\",\"linecolor\":\"white\",\"ticks\":\"\",\"title\":{\"standoff\":15},\"zerolinecolor\":\"white\",\"automargin\":true,\"zerolinewidth\":2},\"scene\":{\"xaxis\":{\"backgroundcolor\":\"#E5ECF6\",\"gridcolor\":\"white\",\"linecolor\":\"white\",\"showbackground\":true,\"ticks\":\"\",\"zerolinecolor\":\"white\",\"gridwidth\":2},\"yaxis\":{\"backgroundcolor\":\"#E5ECF6\",\"gridcolor\":\"white\",\"linecolor\":\"white\",\"showbackground\":true,\"ticks\":\"\",\"zerolinecolor\":\"white\",\"gridwidth\":2},\"zaxis\":{\"backgroundcolor\":\"#E5ECF6\",\"gridcolor\":\"white\",\"linecolor\":\"white\",\"showbackground\":true,\"ticks\":\"\",\"zerolinecolor\":\"white\",\"gridwidth\":2}},\"shapedefaults\":{\"line\":{\"color\":\"#2a3f5f\"}},\"annotationdefaults\":{\"arrowcolor\":\"#2a3f5f\",\"arrowhead\":0,\"arrowwidth\":1},\"geo\":{\"bgcolor\":\"white\",\"landcolor\":\"#E5ECF6\",\"subunitcolor\":\"white\",\"showland\":true,\"showlakes\":true,\"lakecolor\":\"white\"},\"title\":{\"x\":0.05},\"mapbox\":{\"style\":\"light\"}}},\"title\":{\"text\":\"Smokers Age\"},\"xaxis\":{\"title\":{\"text\":\"age\"}},\"yaxis\":{\"title\":{\"text\":\"Smokers\"}}},                        {\"responsive\": true}                    ).then(function(){\n",
       "                            \n",
       "var gd = document.getElementById('ec6d3def-fbd6-49c7-a48e-12706bee8f69');\n",
       "var x = new MutationObserver(function (mutations, observer) {{\n",
       "        var display = window.getComputedStyle(gd).display;\n",
       "        if (!display || display === 'none') {{\n",
       "            console.log([gd, 'removed!']);\n",
       "            Plotly.purge(gd);\n",
       "            observer.disconnect();\n",
       "        }}\n",
       "}});\n",
       "\n",
       "// Listen for the removal of the full notebook cells\n",
       "var notebookContainer = gd.closest('#notebook-container');\n",
       "if (notebookContainer) {{\n",
       "    x.observe(notebookContainer, {childList: true});\n",
       "}}\n",
       "\n",
       "// Listen for the clearing of the current output cell\n",
       "var outputEl = gd.closest('.output');\n",
       "if (outputEl) {{\n",
       "    x.observe(outputEl, {childList: true});\n",
       "}}\n",
       "\n",
       "                        })                };                });            </script>        </div>"
      ]
     },
     "metadata": {},
     "output_type": "display_data"
    }
   ],
   "source": [
    "fig = go.Figure()\n",
    "fig.add_trace(go.Scatter(x=label,y=target,mode='markers+lines'))\n",
    "fig.update_layout(title = 'Smokers Age',xaxis=dict(title='age'),yaxis=dict(title='Smokers'))\n",
    "fig.show()"
   ]
  },
  {
   "cell_type": "code",
   "execution_count": 377,
   "id": "f7eb1c74-3bf2-49a7-a9fc-98d48688ef1d",
   "metadata": {},
   "outputs": [
    {
     "ename": "TypeError",
     "evalue": "NDFrame.droplevel() missing 1 required positional argument: 'level'",
     "output_type": "error",
     "traceback": [
      "\u001b[1;31m---------------------------------------------------------------------------\u001b[0m",
      "\u001b[1;31mTypeError\u001b[0m                                 Traceback (most recent call last)",
      "Cell \u001b[1;32mIn[377], line 8\u001b[0m\n\u001b[0;32m      6\u001b[0m acc_dict \u001b[38;5;241m=\u001b[39m {}\n\u001b[0;32m      7\u001b[0m \u001b[38;5;66;03m# create the data\u001b[39;00m\n\u001b[1;32m----> 8\u001b[0m X \u001b[38;5;241m=\u001b[39m df\u001b[38;5;241m.\u001b[39mdroplevel(axis \u001b[38;5;241m=\u001b[39m \u001b[38;5;241m1\u001b[39m)\n\u001b[0;32m      9\u001b[0m y \u001b[38;5;241m=\u001b[39m df\n\u001b[0;32m     10\u001b[0m X_train, X_test, y_train, y_test \u001b[38;5;241m=\u001b[39m train_test_split(X,y)\n",
      "\u001b[1;31mTypeError\u001b[0m: NDFrame.droplevel() missing 1 required positional argument: 'level'"
     ]
    }
   ],
   "source": [
    "from sklearn.model_selection import train_test_split\n",
    "from sklearn.metrics import accuracy_score, confusion_matrix\n",
    "from sklearn.metrics import log_loss, f1_score\n",
    "from sklearn.model_selection import cross_val_score\n",
    "import numpy as np \n",
    "acc_dict = {}\n",
    "# create the data\n",
    "X = df.droplevel(axis = 1)\n",
    "y = df\n",
    "X_train, X_test, y_train, y_test = train_test_split(X,y)\n",
    "\n",
    "from sklearn.ensemble import  RandomForestClassifier\n",
    "# create model\n",
    "model = RandomForestClassifier()\n",
    "\n",
    "# fit the data in the model\n",
    "model.fit(X_train,y_train)\n",
    "\n",
    "y_pred_randomF = model.predict(X_test)\n",
    "print('Accuracy score : ',accuracy_score(y_test, y_pred_randomF)*100)\n",
    "\n",
    "acc_dict['RFC_log_loss'] = log_loss(y_test, y_pred_randomF)\n",
    "acc_dict['RFC_F!1_Score'] = f1_score(y_test, y_pred_randomF,average='weighted')\n",
    "# prediction visualization\n",
    "plt.imshow(np.log(confusion_matrix(y_test,y_pred_randomF)),cmap = 'Blues',interpolation = 'nearest')\n",
    "plt.ylabel('True')\n",
    "plt.xlabel('Predicted')\n",
    "plt.show()"
   ]
  },
  {
   "cell_type": "code",
   "execution_count": 374,
   "id": "69ec067a-0afb-4697-8c81-1ce36ed8ec2f",
   "metadata": {},
   "outputs": [
    {
     "ename": "NameError",
     "evalue": "name 'X_train' is not defined",
     "output_type": "error",
     "traceback": [
      "\u001b[1;31m---------------------------------------------------------------------------\u001b[0m",
      "\u001b[1;31mNameError\u001b[0m                                 Traceback (most recent call last)",
      "Cell \u001b[1;32mIn[374], line 6\u001b[0m\n\u001b[0;32m      3\u001b[0m model \u001b[38;5;241m=\u001b[39m RandomForestClassifier()\n\u001b[0;32m      5\u001b[0m \u001b[38;5;66;03m# fit the data in the model\u001b[39;00m\n\u001b[1;32m----> 6\u001b[0m model\u001b[38;5;241m.\u001b[39mfit(X_train,y_train)\n\u001b[0;32m      8\u001b[0m y_pred_randomF \u001b[38;5;241m=\u001b[39m model\u001b[38;5;241m.\u001b[39mpredict(X_test)\n\u001b[0;32m      9\u001b[0m \u001b[38;5;28mprint\u001b[39m(\u001b[38;5;124m'\u001b[39m\u001b[38;5;124mAccuracy score : \u001b[39m\u001b[38;5;124m'\u001b[39m,accuracy_score(y_test, y_pred_randomF)\u001b[38;5;241m*\u001b[39m\u001b[38;5;241m100\u001b[39m)\n",
      "\u001b[1;31mNameError\u001b[0m: name 'X_train' is not defined"
     ]
    }
   ],
   "source": [
    "from sklearn.ensemble import  RandomForestClassifier\n",
    "# create model\n",
    "model = RandomForestClassifier()\n",
    "\n",
    "# fit the data in the model\n",
    "model.fit(X_train,y_train)\n",
    "\n",
    "y_pred_randomF = model.predict(X_test)\n",
    "print('Accuracy score : ',accuracy_score(y_test, y_pred_randomF)*100)\n",
    "\n",
    "acc_dict['RFC_log_loss'] = log_loss(y_test, y_pred_randomF)\n",
    "acc_dict['RFC_F!1_Score'] = f1_score(y_test, y_pred_randomF,average='weighted')\n",
    "# prediction visualization\n",
    "plt.imshow(np.log(confusion_matrix(y_test,y_pred_randomF)),cmap = 'Blues',interpolation = 'nearest')\n",
    "plt.ylabel('True')\n",
    "plt.xlabel('Predicted')\n",
    "plt.show()"
   ]
  },
  {
   "cell_type": "code",
   "execution_count": null,
   "id": "7718b7b6-78d2-4422-89a1-120bf67b7415",
   "metadata": {},
   "outputs": [],
   "source": []
  }
 ],
 "metadata": {
  "kernelspec": {
   "display_name": "Python 3 (ipykernel)",
   "language": "python",
   "name": "python3"
  },
  "language_info": {
   "codemirror_mode": {
    "name": "ipython",
    "version": 3
   },
   "file_extension": ".py",
   "mimetype": "text/x-python",
   "name": "python",
   "nbconvert_exporter": "python",
   "pygments_lexer": "ipython3",
   "version": "3.11.7"
  }
 },
 "nbformat": 4,
 "nbformat_minor": 5
}
